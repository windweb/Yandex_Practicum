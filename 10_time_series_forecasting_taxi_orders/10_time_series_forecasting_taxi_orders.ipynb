{
 "cells": [
  {
   "cell_type": "markdown",
   "metadata": {
    "toc": true
   },
   "source": [
    "<h1>Содержание<span class=\"tocSkip\"></span></h1>\n",
    "<div class=\"toc\"><ul class=\"toc-item\"><li><span><a href=\"#Подготовка\" data-toc-modified-id=\"Подготовка-1\"><span class=\"toc-item-num\">1&nbsp;&nbsp;</span>Подготовка</a></span><ul class=\"toc-item\"><li><span><a href=\"#Чтение-данных\" data-toc-modified-id=\"Чтение-данных-1.1\"><span class=\"toc-item-num\">1.1&nbsp;&nbsp;</span>Чтение данных</a></span></li><li><span><a href=\"#Ресемплирование\" data-toc-modified-id=\"Ресемплирование-1.2\"><span class=\"toc-item-num\">1.2&nbsp;&nbsp;</span>Ресемплирование</a></span></li><li><span><a href=\"#Создание-признаков\" data-toc-modified-id=\"Создание-признаков-1.3\"><span class=\"toc-item-num\">1.3&nbsp;&nbsp;</span>Создание признаков</a></span></li></ul></li><li><span><a href=\"#Анализ\" data-toc-modified-id=\"Анализ-2\"><span class=\"toc-item-num\">2&nbsp;&nbsp;</span>Анализ</a></span><ul class=\"toc-item\"><li><span><a href=\"#Тренд\" data-toc-modified-id=\"Тренд-2.1\"><span class=\"toc-item-num\">2.1&nbsp;&nbsp;</span>Тренд</a></span></li><li><span><a href=\"#Сезонность\" data-toc-modified-id=\"Сезонность-2.2\"><span class=\"toc-item-num\">2.2&nbsp;&nbsp;</span>Сезонность</a></span></li></ul></li><li><span><a href=\"#Обучение\" data-toc-modified-id=\"Обучение-3\"><span class=\"toc-item-num\">3&nbsp;&nbsp;</span>Обучение</a></span><ul class=\"toc-item\"><li><span><a href=\"#LinearRegression\" data-toc-modified-id=\"LinearRegression-3.1\"><span class=\"toc-item-num\">3.1&nbsp;&nbsp;</span><em>LinearRegression</em></a></span></li><li><span><a href=\"#RandomForestRegressor\" data-toc-modified-id=\"RandomForestRegressor-3.2\"><span class=\"toc-item-num\">3.2&nbsp;&nbsp;</span><em>RandomForestRegressor</em></a></span></li><li><span><a href=\"#LGBMRegressor\" data-toc-modified-id=\"LGBMRegressor-3.3\"><span class=\"toc-item-num\">3.3&nbsp;&nbsp;</span><em>LGBMRegressor</em></a></span></li><li><span><a href=\"#CatBoostRegressor\" data-toc-modified-id=\"CatBoostRegressor-3.4\"><span class=\"toc-item-num\">3.4&nbsp;&nbsp;</span><em>CatBoostRegressor</em></a></span></li></ul></li><li><span><a href=\"#Тестирование\" data-toc-modified-id=\"Тестирование-4\"><span class=\"toc-item-num\">4&nbsp;&nbsp;</span>Тестирование</a></span></li><li><span><a href=\"#Общий-вывод\" data-toc-modified-id=\"Общий-вывод-5\"><span class=\"toc-item-num\">5&nbsp;&nbsp;</span>Общий вывод</a></span></li><li><span><a href=\"#Чек-лист-проверки\" data-toc-modified-id=\"Чек-лист-проверки-6\"><span class=\"toc-item-num\">6&nbsp;&nbsp;</span>Чек-лист проверки</a></span></li></ul></div>"
   ]
  },
  {
   "cell_type": "markdown",
   "metadata": {},
   "source": [
    "#  Прогнозирование заказов такси"
   ]
  },
  {
   "cell_type": "markdown",
   "metadata": {},
   "source": [
    "**Описание проекта:**\n",
    "\n",
    "Компания «Чётенькое такси» собрала исторические данные о заказах такси в аэропортах. Чтобы привлекать больше водителей в период пиковой нагрузки, нужно спрогнозировать количество заказов такси на следующий час. Построим модель для такого предсказания.\n",
    "\n",
    "Значение метрики *RMSE* на тестовой выборке должно быть не больше 48.\n",
    "\n",
    "**Цели:**\n",
    "\n",
    "Построить модель для предсказания количества заказов такси на следующий час.\n",
    "\n",
    "Результаты исследования позволят привлечь больше водителей в период пиковой нагрузки.\n",
    "\n",
    "\n",
    "**Задачи:**\n",
    "\n",
    "1. Загрузить данные и выполнить их ресемплирование по одному часу.\n",
    "2. Проанализировать данные.\n",
    "3. Обучить разные модели с различными гиперпараметрами. Сделать тестовую выборку размером 10% от исходных данных.\n",
    "4. Проверить данные на тестовой выборке и сделать выводы.\n",
    "\n",
    "\n",
    "**Описание данных:**\n",
    "\n",
    "Предоставлены исторические данные о заказах такси в аэропортах. Данные находятся в файле `taxi.csv`. Количество заказов (целевой признак) находится в столбце `num_orders` (от англ. *number of orders*, «число заказов»)."
   ]
  },
  {
   "cell_type": "markdown",
   "metadata": {},
   "source": [
    "## Подготовка"
   ]
  },
  {
   "cell_type": "code",
   "execution_count": 1,
   "metadata": {},
   "outputs": [],
   "source": [
    "import matplotlib.pyplot as plt # для построения распределений переменных\n",
    "import numpy as np # для действий с данными\n",
    "import pandas as pd # для загрузки данных\n",
    "import seaborn as sns # для построения распределений переменных\n",
    "\n",
    "from statsmodels.tsa.seasonal import seasonal_decompose # для разложения временного ряда на составляющие\n",
    "\n",
    "from sklearn.pipeline import Pipeline # для автоматизации предварительных преобразований данных перед обучением модели\n",
    "from sklearn.preprocessing import StandardScaler # для масштабирования численных признаков\n",
    "\n",
    "from sklearn.metrics import mean_squared_error # для расчета RMSE модели\n",
    "from sklearn.model_selection import cross_val_score # для использования кросс-валидации при обучении моделей\n",
    "from sklearn.model_selection import GridSearchCV # для автоматического подбора параметров для моделей машинного обучения\n",
    "from sklearn.model_selection import TimeSeriesSplit # для разделение на фолды в кросс-валидации\n",
    "from sklearn.model_selection import train_test_split # для разбиения данных на обучающую и тестовую выборки\n",
    "\n",
    "from catboost import CatBoostRegressor # для создания модели градиентного бустинга CatBoost для задачи регрессии\n",
    "from lightgbm import LGBMRegressor # для создания модели градиентного бустинга LightGBM для задачи регрессии\n",
    "from sklearn.ensemble import RandomForestRegressor # для создания модели случайного леса для задачи регрессии\n",
    "from sklearn.linear_model import LinearRegression # для создания модели линейной регрессии\n",
    "\n",
    "RANDOM_STATE = 12345 # для контроля случайности объектов"
   ]
  },
  {
   "cell_type": "markdown",
   "metadata": {},
   "source": [
    "### Чтение данных"
   ]
  },
  {
   "cell_type": "markdown",
   "metadata": {},
   "source": [
    "Загрузим данные. Установим индекс таблицы *data* равным столбцу *datetime* и изменим тип данных *datetime* с *object* на *datetime64*."
   ]
  },
  {
   "cell_type": "code",
   "execution_count": 2,
   "metadata": {},
   "outputs": [
    {
     "data": {
      "text/plain": [
       "(26496, 1)"
      ]
     },
     "execution_count": 2,
     "metadata": {},
     "output_type": "execute_result"
    }
   ],
   "source": [
    "data = pd.read_csv(r'C:/Users/lorad/OneDrive/Documents/Моя папка/Data Science/Мои проекты/GitHubRepositories/'\n",
    "                 'YandexPracticum/10_time_series_forecasting_taxi_orders/taxi.csv', index_col=[0], parse_dates=[0])\n",
    "data.shape"
   ]
  },
  {
   "cell_type": "code",
   "execution_count": 3,
   "metadata": {},
   "outputs": [
    {
     "data": {
      "text/html": [
       "<div>\n",
       "<style scoped>\n",
       "    .dataframe tbody tr th:only-of-type {\n",
       "        vertical-align: middle;\n",
       "    }\n",
       "\n",
       "    .dataframe tbody tr th {\n",
       "        vertical-align: top;\n",
       "    }\n",
       "\n",
       "    .dataframe thead th {\n",
       "        text-align: right;\n",
       "    }\n",
       "</style>\n",
       "<table border=\"1\" class=\"dataframe\">\n",
       "  <thead>\n",
       "    <tr style=\"text-align: right;\">\n",
       "      <th></th>\n",
       "      <th>num_orders</th>\n",
       "    </tr>\n",
       "    <tr>\n",
       "      <th>datetime</th>\n",
       "      <th></th>\n",
       "    </tr>\n",
       "  </thead>\n",
       "  <tbody>\n",
       "    <tr>\n",
       "      <th>2018-03-01 00:00:00</th>\n",
       "      <td>9</td>\n",
       "    </tr>\n",
       "    <tr>\n",
       "      <th>2018-03-01 00:10:00</th>\n",
       "      <td>14</td>\n",
       "    </tr>\n",
       "    <tr>\n",
       "      <th>2018-03-01 00:20:00</th>\n",
       "      <td>28</td>\n",
       "    </tr>\n",
       "    <tr>\n",
       "      <th>2018-03-01 00:30:00</th>\n",
       "      <td>20</td>\n",
       "    </tr>\n",
       "    <tr>\n",
       "      <th>2018-03-01 00:40:00</th>\n",
       "      <td>32</td>\n",
       "    </tr>\n",
       "  </tbody>\n",
       "</table>\n",
       "</div>"
      ],
      "text/plain": [
       "                     num_orders\n",
       "datetime                       \n",
       "2018-03-01 00:00:00           9\n",
       "2018-03-01 00:10:00          14\n",
       "2018-03-01 00:20:00          28\n",
       "2018-03-01 00:30:00          20\n",
       "2018-03-01 00:40:00          32"
      ]
     },
     "execution_count": 3,
     "metadata": {},
     "output_type": "execute_result"
    }
   ],
   "source": [
    "data.head()"
   ]
  },
  {
   "cell_type": "code",
   "execution_count": 4,
   "metadata": {
    "scrolled": true
   },
   "outputs": [
    {
     "name": "stdout",
     "output_type": "stream",
     "text": [
      "<class 'pandas.core.frame.DataFrame'>\n",
      "DatetimeIndex: 26496 entries, 2018-03-01 00:00:00 to 2018-08-31 23:50:00\n",
      "Data columns (total 1 columns):\n",
      " #   Column      Non-Null Count  Dtype\n",
      "---  ------      --------------  -----\n",
      " 0   num_orders  26496 non-null  int64\n",
      "dtypes: int64(1)\n",
      "memory usage: 414.0 KB\n"
     ]
    }
   ],
   "source": [
    "data.info()"
   ]
  },
  {
   "cell_type": "markdown",
   "metadata": {},
   "source": [
    "Отсортируем индекс таблицы и проверим, в хронологическом ли порядке расположены даты и время с помощью атрибута индекса таблицы *is_monotonic*."
   ]
  },
  {
   "cell_type": "code",
   "execution_count": 5,
   "metadata": {},
   "outputs": [
    {
     "name": "stdout",
     "output_type": "stream",
     "text": [
      "True\n",
      "<class 'pandas.core.frame.DataFrame'>\n",
      "DatetimeIndex: 26496 entries, 2018-03-01 00:00:00 to 2018-08-31 23:50:00\n",
      "Data columns (total 1 columns):\n",
      " #   Column      Non-Null Count  Dtype\n",
      "---  ------      --------------  -----\n",
      " 0   num_orders  26496 non-null  int64\n",
      "dtypes: int64(1)\n",
      "memory usage: 414.0 KB\n"
     ]
    }
   ],
   "source": [
    "data.sort_index(inplace=True)\n",
    "print(data.index.is_monotonic)\n",
    "data.info()"
   ]
  },
  {
   "cell_type": "markdown",
   "metadata": {},
   "source": [
    "### Ресемплирование"
   ]
  },
  {
   "cell_type": "markdown",
   "metadata": {},
   "source": [
    "Выполним ресемплирование данных по одному часу и вызовем функцию *sum()* для агрегации значений."
   ]
  },
  {
   "cell_type": "code",
   "execution_count": 6,
   "metadata": {
    "scrolled": true
   },
   "outputs": [
    {
     "data": {
      "text/html": [
       "<div>\n",
       "<style scoped>\n",
       "    .dataframe tbody tr th:only-of-type {\n",
       "        vertical-align: middle;\n",
       "    }\n",
       "\n",
       "    .dataframe tbody tr th {\n",
       "        vertical-align: top;\n",
       "    }\n",
       "\n",
       "    .dataframe thead th {\n",
       "        text-align: right;\n",
       "    }\n",
       "</style>\n",
       "<table border=\"1\" class=\"dataframe\">\n",
       "  <thead>\n",
       "    <tr style=\"text-align: right;\">\n",
       "      <th></th>\n",
       "      <th>num_orders</th>\n",
       "    </tr>\n",
       "    <tr>\n",
       "      <th>datetime</th>\n",
       "      <th></th>\n",
       "    </tr>\n",
       "  </thead>\n",
       "  <tbody>\n",
       "    <tr>\n",
       "      <th>2018-03-01 00:00:00</th>\n",
       "      <td>124</td>\n",
       "    </tr>\n",
       "    <tr>\n",
       "      <th>2018-03-01 01:00:00</th>\n",
       "      <td>85</td>\n",
       "    </tr>\n",
       "    <tr>\n",
       "      <th>2018-03-01 02:00:00</th>\n",
       "      <td>71</td>\n",
       "    </tr>\n",
       "    <tr>\n",
       "      <th>2018-03-01 03:00:00</th>\n",
       "      <td>66</td>\n",
       "    </tr>\n",
       "    <tr>\n",
       "      <th>2018-03-01 04:00:00</th>\n",
       "      <td>43</td>\n",
       "    </tr>\n",
       "  </tbody>\n",
       "</table>\n",
       "</div>"
      ],
      "text/plain": [
       "                     num_orders\n",
       "datetime                       \n",
       "2018-03-01 00:00:00         124\n",
       "2018-03-01 01:00:00          85\n",
       "2018-03-01 02:00:00          71\n",
       "2018-03-01 03:00:00          66\n",
       "2018-03-01 04:00:00          43"
      ]
     },
     "execution_count": 6,
     "metadata": {},
     "output_type": "execute_result"
    }
   ],
   "source": [
    "data = data.resample('1H').sum()\n",
    "data.head()"
   ]
  },
  {
   "cell_type": "markdown",
   "metadata": {},
   "source": [
    "### Создание признаков"
   ]
  },
  {
   "cell_type": "markdown",
   "metadata": {},
   "source": [
    "Напишем функцию для создания признаков: календарные признаки (день недели и час), отстающие значения (*lag*), скользящее среднее (*rolling*)."
   ]
  },
  {
   "cell_type": "code",
   "execution_count": 7,
   "metadata": {},
   "outputs": [],
   "source": [
    "def make_features(data, max_lag, rolling_mean_size):\n",
    "    \n",
    "    result = data.copy()\n",
    "    \n",
    "    result['dayofweek'] = data.index.dayofweek\n",
    "    result['hour'] = data.index.hour\n",
    "    \n",
    "    for lag in range(1, max_lag + 1):\n",
    "        result['lag_{}'.format(lag)] = data['num_orders'].shift(lag)\n",
    "\n",
    "    result['rolling_mean'] = data['num_orders'].shift().rolling(rolling_mean_size).mean()\n",
    "    \n",
    "    return result"
   ]
  },
  {
   "cell_type": "markdown",
   "metadata": {},
   "source": [
    "Применим функцию к таблице *data* с размером отставания (*lag*), равным 2, и с размером окна скользящего среднего (*rolling*), равным 24. Получим новый датасет."
   ]
  },
  {
   "cell_type": "code",
   "execution_count": 8,
   "metadata": {},
   "outputs": [
    {
     "data": {
      "text/html": [
       "<div>\n",
       "<style scoped>\n",
       "    .dataframe tbody tr th:only-of-type {\n",
       "        vertical-align: middle;\n",
       "    }\n",
       "\n",
       "    .dataframe tbody tr th {\n",
       "        vertical-align: top;\n",
       "    }\n",
       "\n",
       "    .dataframe thead th {\n",
       "        text-align: right;\n",
       "    }\n",
       "</style>\n",
       "<table border=\"1\" class=\"dataframe\">\n",
       "  <thead>\n",
       "    <tr style=\"text-align: right;\">\n",
       "      <th></th>\n",
       "      <th>num_orders</th>\n",
       "      <th>dayofweek</th>\n",
       "      <th>hour</th>\n",
       "      <th>lag_1</th>\n",
       "      <th>lag_2</th>\n",
       "      <th>rolling_mean</th>\n",
       "    </tr>\n",
       "    <tr>\n",
       "      <th>datetime</th>\n",
       "      <th></th>\n",
       "      <th></th>\n",
       "      <th></th>\n",
       "      <th></th>\n",
       "      <th></th>\n",
       "      <th></th>\n",
       "    </tr>\n",
       "  </thead>\n",
       "  <tbody>\n",
       "    <tr>\n",
       "      <th>2018-03-01 00:00:00</th>\n",
       "      <td>124</td>\n",
       "      <td>3</td>\n",
       "      <td>0</td>\n",
       "      <td>NaN</td>\n",
       "      <td>NaN</td>\n",
       "      <td>NaN</td>\n",
       "    </tr>\n",
       "    <tr>\n",
       "      <th>2018-03-01 01:00:00</th>\n",
       "      <td>85</td>\n",
       "      <td>3</td>\n",
       "      <td>1</td>\n",
       "      <td>124.0</td>\n",
       "      <td>NaN</td>\n",
       "      <td>NaN</td>\n",
       "    </tr>\n",
       "    <tr>\n",
       "      <th>2018-03-01 02:00:00</th>\n",
       "      <td>71</td>\n",
       "      <td>3</td>\n",
       "      <td>2</td>\n",
       "      <td>85.0</td>\n",
       "      <td>124.0</td>\n",
       "      <td>NaN</td>\n",
       "    </tr>\n",
       "    <tr>\n",
       "      <th>2018-03-01 03:00:00</th>\n",
       "      <td>66</td>\n",
       "      <td>3</td>\n",
       "      <td>3</td>\n",
       "      <td>71.0</td>\n",
       "      <td>85.0</td>\n",
       "      <td>NaN</td>\n",
       "    </tr>\n",
       "    <tr>\n",
       "      <th>2018-03-01 04:00:00</th>\n",
       "      <td>43</td>\n",
       "      <td>3</td>\n",
       "      <td>4</td>\n",
       "      <td>66.0</td>\n",
       "      <td>71.0</td>\n",
       "      <td>NaN</td>\n",
       "    </tr>\n",
       "    <tr>\n",
       "      <th>...</th>\n",
       "      <td>...</td>\n",
       "      <td>...</td>\n",
       "      <td>...</td>\n",
       "      <td>...</td>\n",
       "      <td>...</td>\n",
       "      <td>...</td>\n",
       "    </tr>\n",
       "    <tr>\n",
       "      <th>2018-08-31 19:00:00</th>\n",
       "      <td>136</td>\n",
       "      <td>4</td>\n",
       "      <td>19</td>\n",
       "      <td>207.0</td>\n",
       "      <td>217.0</td>\n",
       "      <td>164.875000</td>\n",
       "    </tr>\n",
       "    <tr>\n",
       "      <th>2018-08-31 20:00:00</th>\n",
       "      <td>154</td>\n",
       "      <td>4</td>\n",
       "      <td>20</td>\n",
       "      <td>136.0</td>\n",
       "      <td>207.0</td>\n",
       "      <td>167.541667</td>\n",
       "    </tr>\n",
       "    <tr>\n",
       "      <th>2018-08-31 21:00:00</th>\n",
       "      <td>159</td>\n",
       "      <td>4</td>\n",
       "      <td>21</td>\n",
       "      <td>154.0</td>\n",
       "      <td>136.0</td>\n",
       "      <td>168.041667</td>\n",
       "    </tr>\n",
       "    <tr>\n",
       "      <th>2018-08-31 22:00:00</th>\n",
       "      <td>223</td>\n",
       "      <td>4</td>\n",
       "      <td>22</td>\n",
       "      <td>159.0</td>\n",
       "      <td>154.0</td>\n",
       "      <td>166.416667</td>\n",
       "    </tr>\n",
       "    <tr>\n",
       "      <th>2018-08-31 23:00:00</th>\n",
       "      <td>205</td>\n",
       "      <td>4</td>\n",
       "      <td>23</td>\n",
       "      <td>223.0</td>\n",
       "      <td>159.0</td>\n",
       "      <td>169.125000</td>\n",
       "    </tr>\n",
       "  </tbody>\n",
       "</table>\n",
       "<p>4416 rows × 6 columns</p>\n",
       "</div>"
      ],
      "text/plain": [
       "                     num_orders  dayofweek  hour  lag_1  lag_2  rolling_mean\n",
       "datetime                                                                    \n",
       "2018-03-01 00:00:00         124          3     0    NaN    NaN           NaN\n",
       "2018-03-01 01:00:00          85          3     1  124.0    NaN           NaN\n",
       "2018-03-01 02:00:00          71          3     2   85.0  124.0           NaN\n",
       "2018-03-01 03:00:00          66          3     3   71.0   85.0           NaN\n",
       "2018-03-01 04:00:00          43          3     4   66.0   71.0           NaN\n",
       "...                         ...        ...   ...    ...    ...           ...\n",
       "2018-08-31 19:00:00         136          4    19  207.0  217.0    164.875000\n",
       "2018-08-31 20:00:00         154          4    20  136.0  207.0    167.541667\n",
       "2018-08-31 21:00:00         159          4    21  154.0  136.0    168.041667\n",
       "2018-08-31 22:00:00         223          4    22  159.0  154.0    166.416667\n",
       "2018-08-31 23:00:00         205          4    23  223.0  159.0    169.125000\n",
       "\n",
       "[4416 rows x 6 columns]"
      ]
     },
     "execution_count": 8,
     "metadata": {},
     "output_type": "execute_result"
    }
   ],
   "source": [
    "data_plus = make_features(data, 2, 24)\n",
    "data_plus"
   ]
  },
  {
   "cell_type": "markdown",
   "metadata": {},
   "source": [
    "**Вывод**. \n",
    "\n",
    "В этом разделе были выполнены следующие задачи:\n",
    "1. данные прочитаны, в качестве индекса мы установили столбец *datetime* и изменили тип данных *datetime* с *object* на *datetime64*;\n",
    "2. выполнено ресемплирование данных по одному часу;\n",
    "3. созданы новые признаки: календарные признаки (день недели и час), отстающие значения, скользящее среднее.\n",
    "\n",
    "Таким образом, данные подготовлены для дальнейшей работы."
   ]
  },
  {
   "cell_type": "markdown",
   "metadata": {},
   "source": [
    "## Анализ"
   ]
  },
  {
   "cell_type": "markdown",
   "metadata": {},
   "source": [
    "Проанализируем временной ряд. У нас есть данные за полгода - с 1 марта по 31 августа 2018 года. Посмотрим тренд за этот период, а также сезонные изменения в пределах недели и дня."
   ]
  },
  {
   "cell_type": "markdown",
   "metadata": {},
   "source": [
    "### Тренд"
   ]
  },
  {
   "cell_type": "markdown",
   "metadata": {},
   "source": [
    "Чтобы не мешала периодичность более высокого порядка, ресемплируем данные по дням."
   ]
  },
  {
   "cell_type": "code",
   "execution_count": 9,
   "metadata": {},
   "outputs": [],
   "source": [
    "decomposed_day = seasonal_decompose(data.resample('1D').sum())"
   ]
  },
  {
   "cell_type": "code",
   "execution_count": 10,
   "metadata": {},
   "outputs": [
    {
     "data": {
      "image/png": "[encoded data removed]",
      "text/plain": [
       "<Figure size 1008x360 with 1 Axes>"
      ]
     },
     "metadata": {
      "needs_background": "light"
     },
     "output_type": "display_data"
    }
   ],
   "source": [
    "plt.figure(figsize=(14, 5))\n",
    "decomposed_day.trend.plot(title='Trend')\n",
    "plt.xlabel(\"Время (месяцы)\")\n",
    "plt.ylabel('Количество заказов')\n",
    "plt.show()"
   ]
  },
  {
   "cell_type": "markdown",
   "metadata": {},
   "source": [
    "На графике хорошо прослеживается рост числа заказов такси в аэропорт за полгода."
   ]
  },
  {
   "cell_type": "markdown",
   "metadata": {},
   "source": [
    "### Сезонность"
   ]
  },
  {
   "cell_type": "markdown",
   "metadata": {},
   "source": [
    "Посмотрим, как изменяется число заказов такси в течение **недели**."
   ]
  },
  {
   "cell_type": "code",
   "execution_count": 11,
   "metadata": {},
   "outputs": [
    {
     "data": {
      "image/png": "[encoded data removed]",
      "text/plain": [
       "<Figure size 1008x360 with 1 Axes>"
      ]
     },
     "metadata": {
      "needs_background": "light"
     },
     "output_type": "display_data"
    }
   ],
   "source": [
    "plt.figure(figsize=(14, 5))\n",
    "decomposed_day.seasonal['2018-03-01':'2018-03-15'].plot(title='Weekly seasonality')\n",
    "plt.xlabel(\"Время (дни)\")\n",
    "plt.ylabel('Количество заказов (относительно первого дня)')\n",
    "plt.show()"
   ]
  },
  {
   "cell_type": "markdown",
   "metadata": {},
   "source": [
    "Здесь видны пики во вторник и пятницу. То есть больше всего заказов такси в аэропорт приходится на начало и конец рабочей недели."
   ]
  },
  {
   "cell_type": "markdown",
   "metadata": {},
   "source": [
    "Посмотрим, как изменяется число заказов такси в течение **дня**. Для этого воспользуемся ресемплингом по часам."
   ]
  },
  {
   "cell_type": "code",
   "execution_count": 12,
   "metadata": {},
   "outputs": [],
   "source": [
    "decomposed_hour = seasonal_decompose(data)"
   ]
  },
  {
   "cell_type": "code",
   "execution_count": 13,
   "metadata": {},
   "outputs": [
    {
     "data": {
      "image/png": "[encoded data removed]",
      "text/plain": [
       "<Figure size 1008x360 with 1 Axes>"
      ]
     },
     "metadata": {
      "needs_background": "light"
     },
     "output_type": "display_data"
    }
   ],
   "source": [
    "plt.figure(figsize=(14, 5))\n",
    "decomposed_hour.seasonal['2018-03-01':'2018-03-2'].plot(title='Daily seasonality')\n",
    "plt.xlabel(\"Время (часы)\")\n",
    "plt.ylabel('Количество заказов (относительно нулевого часа)')\n",
    "plt.show()"
   ]
  },
  {
   "cell_type": "markdown",
   "metadata": {},
   "source": [
    "Судя по графику, самое непопулярное время - 6:00. Затем в течение дня наблюдаются несколько пиков: в ~10:00, в ~16:00 и самое загруженное время - в ~00:00."
   ]
  },
  {
   "cell_type": "markdown",
   "metadata": {},
   "source": [
    "**Вывод**. \n",
    "\n",
    "В этом разделе были выполнены следующие задачи:\n",
    "1. проанализирован тренд за полугодовой период с 1 марта по 31 августа 2018 года;\n",
    "2. проанализированы сезонные изменения в пределах недели и дня.\n",
    "\n",
    "В результате выполнения задач этого раздела было выявлено следующее:\n",
    "1. в течение всего полугодового периода с 1 марта по 31 августа 2018 года прослеживается рост числа заказов такси в аэропорт;\n",
    "2. в пределах недели: больше всего заказов такси в аэропорт приходится на вторник и пятницу;\n",
    "3. в пределах дня: самое непопулярное время - 6:00. Затем в течение дня наблюдаются несколько пиков: в ~10:00, в ~16:00 и самое загруженное время - в ~00:00."
   ]
  },
  {
   "cell_type": "markdown",
   "metadata": {},
   "source": [
    "## Обучение"
   ]
  },
  {
   "cell_type": "markdown",
   "metadata": {},
   "source": [
    "Обучим разные модели с различными гиперпараметрами. Сделаем тестовую выборку размером 10% от исходных данных."
   ]
  },
  {
   "cell_type": "markdown",
   "metadata": {},
   "source": [
    "Разделим данные на обучающую и тестовую выборки в соотношении 9:1.\n",
    "\n",
    "Перемешивать выборки в задаче прогнозирования временного ряда нельзя, поэтому укажем аргумент *shuffle* (с англ. «перетасовывать») равным *False*, чтобы разделить данные корректно. Данные обучающей выборки должны предшествовать данным тестовой. Иначе тестирование модели будет некорректным: модель не должна обучаться на данных из будущего."
   ]
  },
  {
   "cell_type": "code",
   "execution_count": 14,
   "metadata": {},
   "outputs": [],
   "source": [
    "data_plus.dropna(inplace=True)\n",
    "\n",
    "X = data_plus.drop('num_orders', axis=1)\n",
    "y = data_plus['num_orders']\n",
    "\n",
    "X_train, X_test, y_train, y_test = train_test_split(X, y, shuffle=False, test_size=0.1)"
   ]
  },
  {
   "cell_type": "code",
   "execution_count": 15,
   "metadata": {},
   "outputs": [
    {
     "name": "stdout",
     "output_type": "stream",
     "text": [
      "Размеры выборок:\n",
      "train: 3952 - 89%\n",
      "test: 440 - 10%\n"
     ]
    }
   ],
   "source": [
    "print('Размеры выборок:')\n",
    "print(f'train: {len(X_train)} - {len(X_train)/len(data):.0%}')\n",
    "print(f'test: {len(X_test)} - {len(X_test)/len(data):.0%}')"
   ]
  },
  {
   "cell_type": "markdown",
   "metadata": {},
   "source": [
    "Обучим четыре модели: линейную регрессию (*Linear Regression*), случайный лес (*Random Forest*), градиентные бустинги *LightGBM* и *CatBoost*. Для последних трёх моделей применим поиск гиперпараметров с помощью *GridSearchCV*. Качество моделей оценим кросс-валидацией с метрикой *RMSE* и разделением на фолды *TimeSeriesSplit*."
   ]
  },
  {
   "cell_type": "markdown",
   "metadata": {},
   "source": [
    "Напишем функцию, которая подбирает лучшую модель с помощью *GridSearchCV*, выводит метрику *RMSE* и параметры лучшей модели. Используем разделение на фолды с помощью *TimeSeriesSplit*."
   ]
  },
  {
   "cell_type": "code",
   "execution_count": 16,
   "metadata": {},
   "outputs": [],
   "source": [
    "tscv = TimeSeriesSplit(n_splits=4) # n_splits - количество фолдов"
   ]
  },
  {
   "cell_type": "code",
   "execution_count": 17,
   "metadata": {},
   "outputs": [],
   "source": [
    "def fit_model(estimator, param_grid, X_train, y_train):\n",
    "    model = GridSearchCV(estimator=estimator,\n",
    "                         param_grid=param_grid,\n",
    "                         n_jobs=-1,\n",
    "                         cv=tscv,\n",
    "                         scoring='neg_root_mean_squared_error',\n",
    "                        )\n",
    "\n",
    "    model.fit(X_train, y_train)\n",
    "\n",
    "    best_index = model.best_index_\n",
    "    best_rmse = round(model.cv_results_['mean_test_score'][best_index], 1)\n",
    "\n",
    "    print(f'Best RMSE: {abs(best_rmse)}')\n",
    "    print(f'Best params: {model.best_params_}')\n",
    "\n",
    "    return model.best_estimator_, model.best_score_"
   ]
  },
  {
   "cell_type": "markdown",
   "metadata": {},
   "source": [
    "### *LinearRegression*"
   ]
  },
  {
   "cell_type": "markdown",
   "metadata": {},
   "source": [
    "*LinearRegression* - линейная регрессия *Linear Regression*. \n",
    "\n",
    "Используем *Pipeline* для автоматизации предварительных преобразований данных перед обучением модели."
   ]
  },
  {
   "cell_type": "code",
   "execution_count": 18,
   "metadata": {},
   "outputs": [
    {
     "name": "stdout",
     "output_type": "stream",
     "text": [
      "RMSE: 32.1\n",
      "CPU times: total: 46.9 ms\n",
      "Wall time: 39.9 ms\n"
     ]
    }
   ],
   "source": [
    "%%time\n",
    "\n",
    "lr_estimator = Pipeline([\n",
    "    ('lr', LinearRegression())\n",
    "])\n",
    "\n",
    "scores = cross_val_score(lr_estimator, X_train, y_train, scoring='neg_root_mean_squared_error', cv=tscv)\n",
    "\n",
    "rmse_lr = scores.mean()\n",
    "print(f'RMSE: {abs(rmse_lr):.1f}')"
   ]
  },
  {
   "cell_type": "markdown",
   "metadata": {},
   "source": [
    "Модель линейной регрессии ***Linear Regression*** имеет метрику оценки качества ***RMSE = 32.1***."
   ]
  },
  {
   "cell_type": "markdown",
   "metadata": {},
   "source": [
    "### *RandomForestRegressor*"
   ]
  },
  {
   "cell_type": "markdown",
   "metadata": {},
   "source": [
    "*RandomForestRegressor* - случайный лес *Random Forest* для задачи регрессии."
   ]
  },
  {
   "cell_type": "code",
   "execution_count": 19,
   "metadata": {
    "scrolled": false
   },
   "outputs": [
    {
     "name": "stdout",
     "output_type": "stream",
     "text": [
      "Best RMSE: 26.4\n",
      "Best params: {'max_depth': 11, 'n_estimators': 120}\n",
      "CPU times: total: 1.55 s\n",
      "Wall time: 10.8 s\n"
     ]
    }
   ],
   "source": [
    "%%time\n",
    "\n",
    "rf_param_grid = {\n",
    "    'max_depth': list(range(5, 12, 2)), # максимальная глубина дерева\n",
    "    'n_estimators': list(range(50, 121, 10)), # количество деревьев\n",
    "}\n",
    "\n",
    "rf_best_model = fit_model(\n",
    "    estimator=RandomForestRegressor(random_state=RANDOM_STATE, n_jobs=-1),\n",
    "    param_grid=rf_param_grid,\n",
    "    X_train=X_train,\n",
    "    y_train=y_train\n",
    ")"
   ]
  },
  {
   "cell_type": "markdown",
   "metadata": {},
   "source": [
    "Наилучшая модель случайного леса ***Random Forest*** имеет метрику оценки качества ***RMSE = 26.4*** при следующих параметрах:\n",
    "- максимальная глубина дерева: *max_depth = 11*;\n",
    "- количество деревьев: *n_estimators = 120*."
   ]
  },
  {
   "cell_type": "markdown",
   "metadata": {},
   "source": [
    "### *LGBMRegressor*"
   ]
  },
  {
   "cell_type": "markdown",
   "metadata": {},
   "source": [
    "*LGBMRegressor* - градиентный бустинг *LightGBM* для задачи регрессии."
   ]
  },
  {
   "cell_type": "code",
   "execution_count": 20,
   "metadata": {},
   "outputs": [
    {
     "name": "stdout",
     "output_type": "stream",
     "text": [
      "Best RMSE: 26.0\n",
      "Best params: {'learning_rate': 0.05, 'max_depth': 8, 'n_estimators': 100}\n",
      "CPU times: total: 719 ms\n",
      "Wall time: 2.83 s\n"
     ]
    }
   ],
   "source": [
    "%%time\n",
    "\n",
    "lgbm_param_grid = {\n",
    "    'learning_rate': [0.01, 0.05, 0.1], # коэффициент скорости обучения (размер шага градиентного спуска)\n",
    "    'max_depth': range(4, 9, 2), # максимальная глубина дерева\n",
    "    'n_estimators': range(100, 201, 50), # количество деревьев (итераций)\n",
    "}\n",
    "\n",
    "lgbm_best_model = fit_model(\n",
    "    estimator=LGBMRegressor(random_state=RANDOM_STATE, n_jobs=-1),\n",
    "    param_grid=lgbm_param_grid,\n",
    "    X_train=X_train,\n",
    "    y_train=y_train\n",
    ")"
   ]
  },
  {
   "cell_type": "markdown",
   "metadata": {},
   "source": [
    "Наилучшая модель градиентного бустинга ***LightGBM*** имеет метрику оценки качества ***RMSE = 26.0*** при следующих параметрах:\n",
    "- коэффициент скорости обучения (размер шага градиентного спуска): *learning_rate = 0.05*;\n",
    "- глубина дерева: *max_depth = 8*;\n",
    "- количество деревьев (итераций): *n_estimators = 100*."
   ]
  },
  {
   "cell_type": "markdown",
   "metadata": {},
   "source": [
    "### *CatBoostRegressor*"
   ]
  },
  {
   "cell_type": "markdown",
   "metadata": {},
   "source": [
    "*CatBoostRegressor* - градиентный бустинг *CatBoost* для задачи регрессии."
   ]
  },
  {
   "cell_type": "markdown",
   "metadata": {},
   "source": [
    "*CatBoost* создает временные файлы для обучения. Чтобы не появлялась ошибка о том, что по указанными путям у *CatBoost* нет доступа к созданию файлов, укажем в модели параметр *allow_writing_files=False*.\n",
    "\n",
    "Выведем также значения метрики *RMSE* различных моделей в виде таблицы."
   ]
  },
  {
   "cell_type": "code",
   "execution_count": 21,
   "metadata": {},
   "outputs": [
    {
     "name": "stdout",
     "output_type": "stream",
     "text": [
      "Best RMSE: 26.3\n",
      "Best params: {'depth': 5, 'iterations': 300, 'learning_rate': 0.05}\n",
      "CPU times: total: 2.08 s\n",
      "Wall time: 59 s\n"
     ]
    },
    {
     "data": {
      "text/html": [
       "<div>\n",
       "<style scoped>\n",
       "    .dataframe tbody tr th:only-of-type {\n",
       "        vertical-align: middle;\n",
       "    }\n",
       "\n",
       "    .dataframe tbody tr th {\n",
       "        vertical-align: top;\n",
       "    }\n",
       "\n",
       "    .dataframe thead th {\n",
       "        text-align: right;\n",
       "    }\n",
       "</style>\n",
       "<table border=\"1\" class=\"dataframe\">\n",
       "  <thead>\n",
       "    <tr style=\"text-align: right;\">\n",
       "      <th></th>\n",
       "      <th>model</th>\n",
       "      <th>RMSE</th>\n",
       "    </tr>\n",
       "  </thead>\n",
       "  <tbody>\n",
       "    <tr>\n",
       "      <th>0</th>\n",
       "      <td>Linear Regression</td>\n",
       "      <td>32.1</td>\n",
       "    </tr>\n",
       "    <tr>\n",
       "      <th>1</th>\n",
       "      <td>Random Forest</td>\n",
       "      <td>26.4</td>\n",
       "    </tr>\n",
       "    <tr>\n",
       "      <th>2</th>\n",
       "      <td>LightGBM</td>\n",
       "      <td>26.0</td>\n",
       "    </tr>\n",
       "    <tr>\n",
       "      <th>3</th>\n",
       "      <td>CatBoost</td>\n",
       "      <td>26.3</td>\n",
       "    </tr>\n",
       "  </tbody>\n",
       "</table>\n",
       "</div>"
      ],
      "text/plain": [
       "               model  RMSE\n",
       "0  Linear Regression  32.1\n",
       "1      Random Forest  26.4\n",
       "2           LightGBM  26.0\n",
       "3           CatBoost  26.3"
      ]
     },
     "execution_count": 21,
     "metadata": {},
     "output_type": "execute_result"
    }
   ],
   "source": [
    "%%time\n",
    "\n",
    "catboost_param_grid = {\n",
    "    'depth': range(2, 12, 3), # глубина дерева\n",
    "    'iterations': range(250, 301, 50), # количество итераций\n",
    "    'learning_rate': [0.05, 0.1, 0.15], # коэффициент скорости обучения (размер шага градиентного спуска)\n",
    "}\n",
    "\n",
    "catboost_best_model = fit_model(\n",
    "    estimator=CatBoostRegressor(random_state=RANDOM_STATE, verbose=False, allow_writing_files=False),\n",
    "    param_grid=catboost_param_grid,\n",
    "    X_train=X_train,\n",
    "    y_train=y_train\n",
    ")\n",
    "\n",
    "\n",
    "table = pd.DataFrame(\n",
    "    [['Linear Regression', f'{abs(rmse_lr):.1f}'],\n",
    "     ['Random Forest', f'{abs(rf_best_model[1]):.1f}'],\n",
    "     ['LightGBM', f'{abs(lgbm_best_model[1]):.1f}'],\n",
    "     ['CatBoost', f'{abs(catboost_best_model[1]):.1f}']],\n",
    "columns=['model', 'RMSE'])\n",
    "\n",
    "table"
   ]
  },
  {
   "cell_type": "markdown",
   "metadata": {},
   "source": [
    "Наилучшая модель градиентного бустинга ***CatBoost*** имеет метрику оценки качества ***RMSE = 26.3*** при следующих параметрах:\n",
    "- глубина дерева: *depth = 5*;\n",
    "- количество итераций: *iterations = 300*;\n",
    "- коэффициент скорости обучения (размер шага градиентного спуска): *learning_rate = 0.05*."
   ]
  },
  {
   "cell_type": "markdown",
   "metadata": {},
   "source": [
    "В качестве лучшей модели выберем ***LightGBM***, так как метрика ***RMSE*** у нее мешьше остальных."
   ]
  },
  {
   "cell_type": "markdown",
   "metadata": {},
   "source": [
    "**Вывод**. \n",
    "\n",
    "В этом разделе были выполнены следующие задачи:\n",
    "1. обучены четыре модели (*Linear Regression*, *Random Forest*, *LightGBM* и *CatBoost*) с различными гиперпараметрами;\n",
    "2. в качестве лучшей модели выбрана ***LightGBM***, так как метрика ***RMSE*** у нее мешьше остальных.\n",
    "\n",
    "В результате выполнения задач этого раздела было выявлено следующее:\n",
    "- наилучшая модель градиентного бустинга ***LightGBM*** на обучающей выборке имеет метрику оценки качества ***RMSE = 26.0***."
   ]
  },
  {
   "cell_type": "markdown",
   "metadata": {},
   "source": [
    "## Тестирование"
   ]
  },
  {
   "cell_type": "markdown",
   "metadata": {},
   "source": [
    "Проверим качесто выбранной модели ***LightGBM*** на тестовой выборке."
   ]
  },
  {
   "cell_type": "code",
   "execution_count": 22,
   "metadata": {},
   "outputs": [
    {
     "name": "stdout",
     "output_type": "stream",
     "text": [
      "RMSE на тестовой выборке: 44.8\n"
     ]
    }
   ],
   "source": [
    "pred = lgbm_best_model[0].predict(X_test)\n",
    "\n",
    "rmse = mean_squared_error(y_test, pred, squared=False) # параметр squared=False возвращает метрику RMSE\n",
    "print(f'RMSE на тестовой выборке: {rmse:.1f}')"
   ]
  },
  {
   "cell_type": "markdown",
   "metadata": {},
   "source": [
    "Наилучшая модель градиентного бустинга ***LightGBM*** на тестовой выборке имеет метрику оценки качества ***RMSE = 44.8***."
   ]
  },
  {
   "cell_type": "markdown",
   "metadata": {},
   "source": [
    "Для тестовой выборки построим график зависимости истинных и предсказанных значений количества заказов от времени."
   ]
  },
  {
   "cell_type": "code",
   "execution_count": 23,
   "metadata": {},
   "outputs": [
    {
     "data": {
      "image/png": "[encoded data removed]",
      "text/plain": [
       "<Figure size 1008x360 with 1 Axes>"
      ]
     },
     "metadata": {
      "needs_background": "light"
     },
     "output_type": "display_data"
    }
   ],
   "source": [
    "pred = pd.Series(pred, index=y_test.index)\n",
    "\n",
    "plt.figure(figsize=(14, 5))\n",
    "y_test.plot(label='true', title='Test')\n",
    "pred.plot(label='predicted')\n",
    "plt.legend()\n",
    "plt.xlabel(\"Время (дни)\")\n",
    "plt.ylabel('Количество заказов')\n",
    "plt.show()"
   ]
  },
  {
   "cell_type": "markdown",
   "metadata": {},
   "source": [
    "На графике видно, что зависимости истинных и предсказанных значений количества заказов от времени имеют схожий характер."
   ]
  },
  {
   "cell_type": "markdown",
   "metadata": {},
   "source": [
    "**Вывод**. \n",
    "\n",
    "В этом разделе были выполнены следующие задачи:\n",
    "1. проверено качесто выбранной модели ***LightGBM*** на тестовой выборке;\n",
    "2. для тестовой выборки построен график зависимости истинных и предсказанных значений количества заказов от времени.\n",
    "\n",
    "В результате выполнения задач этого раздела было выявлено следующее:\n",
    "1. наилучшая модель градиентного бустинга ***LightGBM*** на тестовой выборке имеет метрику оценки качества ***RMSE = 44.8***;\n",
    "2. значение метрики ***RMSE*** на тестовой выборке не превышает ***48***, что соответсвует изначальному требованию задачи."
   ]
  },
  {
   "cell_type": "markdown",
   "metadata": {},
   "source": [
    "## Общий вывод"
   ]
  },
  {
   "cell_type": "markdown",
   "metadata": {},
   "source": [
    "Проведено исследование с целью построения модели для предсказания количества заказов такси на следующий час.\n",
    "\n",
    "Входные данные: исторические данные о заказах такси в аэропортах за полгода - с 1 марта по 31 августа 2018 года.\n",
    "\n",
    "Результаты исследования позволят привлечь больше водителей в период пиковой нагрузки.\n",
    "\n",
    "В результате исследования удалось получить следующие результаты на обучающей выборке:\n",
    "\n",
    "1. Модель линейной регрессии ***Linear Regression*** имеет метрику оценки качества ***RMSE = 32.1***.\n",
    "\n",
    "\n",
    "2. Наилучшая модель случайного леса ***Random Forest*** имеет метрику оценки качества ***RMSE = 26.4*** при следующих параметрах:\n",
    "   - максимальная глубина дерева: *max_depth = 11*;\n",
    "   - количество деревьев: *n_estimators = 120*.\n",
    "\n",
    "\n",
    "3. Наилучшая модель градиентного бустинга ***LightGBM*** имеет метрику оценки качества ***RMSE = 26.0*** при следующих параметрах:\n",
    "   - коэффициент скорости обучения (размер шага градиентного спуска): *learning_rate = 0.05*;\n",
    "   - глубина дерева: *max_depth = 8*;\n",
    "   - количество деревьев (итераций): *n_estimators = 100*.\n",
    "   \n",
    "\n",
    "4. Наилучшая модель градиентного бустинга ***CatBoost*** имеет метрику оценки качества ***RMSE = 26.3*** при следующих параметрах:\n",
    "   - глубина дерева: *depth = 5*;\n",
    "   - количество итераций: *iterations = 300*;\n",
    "   - коэффициент скорости обучения (размер шага градиентного спуска): *learning_rate = 0.05*.\n",
    "   \n",
    "\n",
    "Исходя из полученных результатов, можно сделать следующие **выводы**:\n",
    "\n",
    "1. наилучшая модель градиентного бустинга ***LightGBM*** на тестовой выборке имеет метрику оценки качества ***RMSE = 44.8***;\n",
    "2. значение метрики ***RMSE*** на тестовой выборке не превышает ***48***, что соответсвует изначальному требованию задачи.\n",
    "   \n",
    "**Общие рекомендации:**\n",
    "\n",
    "Специалистам, занимающимся регулированием количества водителей в различные периоды нагрузки, можно рекомендовать использовать полученную модель ***LightGBM***."
   ]
  },
  {
   "cell_type": "markdown",
   "metadata": {},
   "source": [
    "## Чек-лист проверки"
   ]
  },
  {
   "cell_type": "markdown",
   "metadata": {},
   "source": [
    "- [x]  Jupyter Notebook открыт\n",
    "- [x]  Весь код выполняется без ошибок\n",
    "- [x]  Ячейки с кодом расположены в порядке исполнения\n",
    "- [x]  Данные загружены и подготовлены\n",
    "- [x]  Данные проанализированы\n",
    "- [x]  Модель обучена, гиперпараметры подобраны\n",
    "- [x]  Качество моделей проверено, выводы сделаны\n",
    "- [x]  Значение *RMSE* на тестовой выборке не больше 48"
   ]
  }
 ],
 "metadata": {
  "ExecuteTimeLog": [
   {
    "duration": 1689,
    "start_time": "2023-01-11T12:12:35.424Z"
   },
   {
    "duration": 97,
    "start_time": "2023-01-11T12:12:37.116Z"
   },
   {
    "duration": 12,
    "start_time": "2023-01-11T12:12:37.215Z"
   },
   {
    "duration": 12,
    "start_time": "2023-01-11T12:12:37.229Z"
   },
   {
    "duration": 22,
    "start_time": "2023-01-11T12:13:37.355Z"
   },
   {
    "duration": 12,
    "start_time": "2023-01-11T12:13:52.612Z"
   },
   {
    "duration": 1437,
    "start_time": "2023-01-11T12:15:17.741Z"
   },
   {
    "duration": 51,
    "start_time": "2023-01-11T12:15:19.180Z"
   },
   {
    "duration": 9,
    "start_time": "2023-01-11T12:15:19.233Z"
   },
   {
    "duration": 11,
    "start_time": "2023-01-11T12:15:19.244Z"
   },
   {
    "duration": 6,
    "start_time": "2023-01-11T12:15:19.256Z"
   },
   {
    "duration": 1545,
    "start_time": "2023-01-11T12:21:20.628Z"
   },
   {
    "duration": 50,
    "start_time": "2023-01-11T12:21:22.175Z"
   },
   {
    "duration": 12,
    "start_time": "2023-01-11T12:21:22.227Z"
   },
   {
    "duration": 11,
    "start_time": "2023-01-11T12:21:22.241Z"
   },
   {
    "duration": 11,
    "start_time": "2023-01-11T12:21:22.254Z"
   },
   {
    "duration": 49,
    "start_time": "2023-01-11T12:21:22.267Z"
   },
   {
    "duration": 8,
    "start_time": "2023-01-11T12:21:22.318Z"
   },
   {
    "duration": 23,
    "start_time": "2023-01-11T12:21:22.328Z"
   },
   {
    "duration": 49,
    "start_time": "2023-01-11T12:21:53.513Z"
   },
   {
    "duration": 11,
    "start_time": "2023-01-11T12:24:02.608Z"
   },
   {
    "duration": 738,
    "start_time": "2023-01-11T12:27:19.318Z"
   },
   {
    "duration": 246,
    "start_time": "2023-01-11T12:28:25.215Z"
   },
   {
    "duration": 13,
    "start_time": "2023-01-11T12:37:41.153Z"
   },
   {
    "duration": 336,
    "start_time": "2023-01-11T12:42:26.817Z"
   },
   {
    "duration": 287,
    "start_time": "2023-01-11T12:42:38.618Z"
   },
   {
    "duration": 1496,
    "start_time": "2023-01-11T12:42:46.319Z"
   },
   {
    "duration": 45,
    "start_time": "2023-01-11T12:42:47.817Z"
   },
   {
    "duration": 11,
    "start_time": "2023-01-11T12:42:47.864Z"
   },
   {
    "duration": 17,
    "start_time": "2023-01-11T12:42:47.878Z"
   },
   {
    "duration": 17,
    "start_time": "2023-01-11T12:42:47.897Z"
   },
   {
    "duration": 37,
    "start_time": "2023-01-11T12:42:47.916Z"
   },
   {
    "duration": 7,
    "start_time": "2023-01-11T12:42:47.955Z"
   },
   {
    "duration": 17,
    "start_time": "2023-01-11T12:42:47.964Z"
   },
   {
    "duration": 37,
    "start_time": "2023-01-11T12:42:47.983Z"
   },
   {
    "duration": 18,
    "start_time": "2023-01-11T12:42:48.023Z"
   },
   {
    "duration": 291,
    "start_time": "2023-01-11T12:42:48.043Z"
   },
   {
    "duration": 267,
    "start_time": "2023-01-11T12:42:48.336Z"
   },
   {
    "duration": 377,
    "start_time": "2023-01-11T12:44:13.922Z"
   },
   {
    "duration": 1477,
    "start_time": "2023-01-11T12:44:33.274Z"
   },
   {
    "duration": 49,
    "start_time": "2023-01-11T12:44:34.754Z"
   },
   {
    "duration": 11,
    "start_time": "2023-01-11T12:44:34.805Z"
   },
   {
    "duration": 27,
    "start_time": "2023-01-11T12:44:34.817Z"
   },
   {
    "duration": 17,
    "start_time": "2023-01-11T12:44:34.846Z"
   },
   {
    "duration": 42,
    "start_time": "2023-01-11T12:44:34.866Z"
   },
   {
    "duration": 7,
    "start_time": "2023-01-11T12:44:34.910Z"
   },
   {
    "duration": 33,
    "start_time": "2023-01-11T12:44:34.919Z"
   },
   {
    "duration": 18,
    "start_time": "2023-01-11T12:44:34.953Z"
   },
   {
    "duration": 26,
    "start_time": "2023-01-11T12:44:34.972Z"
   },
   {
    "duration": 268,
    "start_time": "2023-01-11T12:44:35.000Z"
   },
   {
    "duration": 319,
    "start_time": "2023-01-11T12:45:18.647Z"
   },
   {
    "duration": 361,
    "start_time": "2023-01-11T12:45:58.686Z"
   },
   {
    "duration": 329,
    "start_time": "2023-01-11T12:47:21.877Z"
   },
   {
    "duration": 1574,
    "start_time": "2023-01-11T12:47:36.267Z"
   },
   {
    "duration": 48,
    "start_time": "2023-01-11T12:47:37.843Z"
   },
   {
    "duration": 11,
    "start_time": "2023-01-11T12:47:37.893Z"
   },
   {
    "duration": 16,
    "start_time": "2023-01-11T12:47:37.905Z"
   },
   {
    "duration": 13,
    "start_time": "2023-01-11T12:47:37.924Z"
   },
   {
    "duration": 27,
    "start_time": "2023-01-11T12:47:37.939Z"
   },
   {
    "duration": 8,
    "start_time": "2023-01-11T12:47:37.968Z"
   },
   {
    "duration": 41,
    "start_time": "2023-01-11T12:47:37.979Z"
   },
   {
    "duration": 11,
    "start_time": "2023-01-11T12:47:38.022Z"
   },
   {
    "duration": 17,
    "start_time": "2023-01-11T12:47:38.035Z"
   },
   {
    "duration": 383,
    "start_time": "2023-01-11T12:47:38.054Z"
   },
   {
    "duration": 436,
    "start_time": "2023-01-11T12:47:56.256Z"
   },
   {
    "duration": 427,
    "start_time": "2023-01-11T12:48:20.973Z"
   },
   {
    "duration": 311,
    "start_time": "2023-01-11T12:48:39.815Z"
   },
   {
    "duration": 1485,
    "start_time": "2023-01-11T12:48:48.439Z"
   },
   {
    "duration": 47,
    "start_time": "2023-01-11T12:48:49.927Z"
   },
   {
    "duration": 11,
    "start_time": "2023-01-11T12:48:49.976Z"
   },
   {
    "duration": 16,
    "start_time": "2023-01-11T12:48:49.989Z"
   },
   {
    "duration": 18,
    "start_time": "2023-01-11T12:48:50.011Z"
   },
   {
    "duration": 43,
    "start_time": "2023-01-11T12:48:50.031Z"
   },
   {
    "duration": 38,
    "start_time": "2023-01-11T12:48:50.075Z"
   },
   {
    "duration": 14,
    "start_time": "2023-01-11T12:48:50.116Z"
   },
   {
    "duration": 15,
    "start_time": "2023-01-11T12:48:50.132Z"
   },
   {
    "duration": 25,
    "start_time": "2023-01-11T12:48:50.149Z"
   },
   {
    "duration": 383,
    "start_time": "2023-01-11T12:48:50.176Z"
   },
   {
    "duration": 1513,
    "start_time": "2023-01-11T12:56:22.292Z"
   },
   {
    "duration": 49,
    "start_time": "2023-01-11T12:56:23.807Z"
   },
   {
    "duration": 10,
    "start_time": "2023-01-11T12:56:23.857Z"
   },
   {
    "duration": 29,
    "start_time": "2023-01-11T12:56:23.869Z"
   },
   {
    "duration": 27,
    "start_time": "2023-01-11T12:56:23.900Z"
   },
   {
    "duration": 32,
    "start_time": "2023-01-11T12:56:23.929Z"
   },
   {
    "duration": 7,
    "start_time": "2023-01-11T12:56:23.963Z"
   },
   {
    "duration": 29,
    "start_time": "2023-01-11T12:56:23.971Z"
   },
   {
    "duration": 17,
    "start_time": "2023-01-11T12:56:24.002Z"
   },
   {
    "duration": 26,
    "start_time": "2023-01-11T12:56:24.021Z"
   },
   {
    "duration": 337,
    "start_time": "2023-01-11T12:56:24.048Z"
   },
   {
    "duration": 180,
    "start_time": "2023-01-11T12:58:09.311Z"
   },
   {
    "duration": 1584,
    "start_time": "2023-01-11T13:00:15.333Z"
   },
   {
    "duration": 66,
    "start_time": "2023-01-11T13:00:16.921Z"
   },
   {
    "duration": 13,
    "start_time": "2023-01-11T13:00:16.992Z"
   },
   {
    "duration": 27,
    "start_time": "2023-01-11T13:00:17.007Z"
   },
   {
    "duration": 15,
    "start_time": "2023-01-11T13:00:17.036Z"
   },
   {
    "duration": 29,
    "start_time": "2023-01-11T13:00:17.052Z"
   },
   {
    "duration": 8,
    "start_time": "2023-01-11T13:00:17.082Z"
   },
   {
    "duration": 30,
    "start_time": "2023-01-11T13:00:17.092Z"
   },
   {
    "duration": 11,
    "start_time": "2023-01-11T13:00:17.125Z"
   },
   {
    "duration": 21,
    "start_time": "2023-01-11T13:00:17.138Z"
   },
   {
    "duration": 390,
    "start_time": "2023-01-11T13:00:17.160Z"
   },
   {
    "duration": 136,
    "start_time": "2023-01-11T13:00:17.552Z"
   },
   {
    "duration": 9,
    "start_time": "2023-01-11T13:01:44.345Z"
   },
   {
    "duration": 7,
    "start_time": "2023-01-11T13:01:49.504Z"
   },
   {
    "duration": 10,
    "start_time": "2023-01-11T13:11:33.658Z"
   },
   {
    "duration": 1537,
    "start_time": "2023-01-11T13:11:42.633Z"
   },
   {
    "duration": 7,
    "start_time": "2023-01-11T13:11:44.172Z"
   },
   {
    "duration": 59,
    "start_time": "2023-01-11T13:11:44.181Z"
   },
   {
    "duration": 13,
    "start_time": "2023-01-11T13:11:44.243Z"
   },
   {
    "duration": 17,
    "start_time": "2023-01-11T13:11:44.258Z"
   },
   {
    "duration": 34,
    "start_time": "2023-01-11T13:11:44.277Z"
   },
   {
    "duration": 40,
    "start_time": "2023-01-11T13:11:44.314Z"
   },
   {
    "duration": 8,
    "start_time": "2023-01-11T13:11:44.356Z"
   },
   {
    "duration": 17,
    "start_time": "2023-01-11T13:11:44.366Z"
   },
   {
    "duration": 35,
    "start_time": "2023-01-11T13:11:44.386Z"
   },
   {
    "duration": 20,
    "start_time": "2023-01-11T13:11:44.423Z"
   },
   {
    "duration": 5,
    "start_time": "2023-01-11T13:11:44.445Z"
   },
   {
    "duration": 35,
    "start_time": "2023-01-11T13:11:44.452Z"
   },
   {
    "duration": 378,
    "start_time": "2023-01-11T13:11:44.489Z"
   },
   {
    "duration": 7,
    "start_time": "2023-01-11T13:11:44.870Z"
   },
   {
    "duration": 152,
    "start_time": "2023-01-11T13:11:44.879Z"
   },
   {
    "duration": 58,
    "start_time": "2023-01-11T13:13:09.367Z"
   },
   {
    "duration": 1804,
    "start_time": "2023-01-12T09:27:58.854Z"
   },
   {
    "duration": 5,
    "start_time": "2023-01-12T09:28:00.660Z"
   },
   {
    "duration": 186,
    "start_time": "2023-01-12T09:28:00.667Z"
   },
   {
    "duration": 9,
    "start_time": "2023-01-12T09:28:00.855Z"
   },
   {
    "duration": 25,
    "start_time": "2023-01-12T09:28:00.865Z"
   },
   {
    "duration": 118,
    "start_time": "2023-01-12T09:28:00.892Z"
   },
   {
    "duration": 33,
    "start_time": "2023-01-12T09:28:01.012Z"
   },
   {
    "duration": 8,
    "start_time": "2023-01-12T09:28:01.047Z"
   },
   {
    "duration": 16,
    "start_time": "2023-01-12T09:28:01.057Z"
   },
   {
    "duration": 37,
    "start_time": "2023-01-12T09:28:01.104Z"
   },
   {
    "duration": 61,
    "start_time": "2023-01-12T09:28:01.143Z"
   },
   {
    "duration": 11,
    "start_time": "2023-01-12T09:28:01.206Z"
   },
   {
    "duration": 75,
    "start_time": "2023-01-12T09:28:01.219Z"
   },
   {
    "duration": 395,
    "start_time": "2023-01-12T09:28:01.296Z"
   },
   {
    "duration": 16,
    "start_time": "2023-01-12T09:28:01.693Z"
   },
   {
    "duration": 166,
    "start_time": "2023-01-12T09:28:01.711Z"
   },
   {
    "duration": 1517,
    "start_time": "2023-01-12T11:18:30.983Z"
   },
   {
    "duration": 5,
    "start_time": "2023-01-12T11:18:32.504Z"
   },
   {
    "duration": 69,
    "start_time": "2023-01-12T11:18:32.511Z"
   },
   {
    "duration": 11,
    "start_time": "2023-01-12T11:18:32.583Z"
   },
   {
    "duration": 13,
    "start_time": "2023-01-12T11:18:32.595Z"
   },
   {
    "duration": 9,
    "start_time": "2023-01-12T11:18:32.609Z"
   },
   {
    "duration": 21,
    "start_time": "2023-01-12T11:18:32.619Z"
   },
   {
    "duration": 4,
    "start_time": "2023-01-12T11:18:32.641Z"
   },
   {
    "duration": 81,
    "start_time": "2023-01-12T11:18:32.647Z"
   },
   {
    "duration": 9,
    "start_time": "2023-01-12T11:18:32.732Z"
   },
   {
    "duration": 221,
    "start_time": "2023-01-12T11:18:32.743Z"
   },
   {
    "duration": 194,
    "start_time": "2023-01-12T11:18:32.966Z"
   },
   {
    "duration": 11,
    "start_time": "2023-01-12T11:18:33.162Z"
   },
   {
    "duration": 255,
    "start_time": "2023-01-12T11:18:33.174Z"
   },
   {
    "duration": 16,
    "start_time": "2023-01-12T11:18:33.431Z"
   },
   {
    "duration": 38,
    "start_time": "2023-01-12T11:18:33.449Z"
   },
   {
    "duration": 14,
    "start_time": "2023-01-12T11:18:33.489Z"
   },
   {
    "duration": 9,
    "start_time": "2023-01-12T11:18:33.505Z"
   },
   {
    "duration": 597,
    "start_time": "2023-01-12T11:18:33.515Z"
   },
   {
    "duration": 173569,
    "start_time": "2023-01-12T11:18:34.114Z"
   },
   {
    "duration": 1559,
    "start_time": "2023-01-12T11:30:25.257Z"
   },
   {
    "duration": 5,
    "start_time": "2023-01-12T11:30:26.818Z"
   },
   {
    "duration": 61,
    "start_time": "2023-01-12T11:30:26.827Z"
   },
   {
    "duration": 9,
    "start_time": "2023-01-12T11:30:26.889Z"
   },
   {
    "duration": 13,
    "start_time": "2023-01-12T11:30:26.899Z"
   },
   {
    "duration": 9,
    "start_time": "2023-01-12T11:30:26.914Z"
   },
   {
    "duration": 20,
    "start_time": "2023-01-12T11:30:26.925Z"
   },
   {
    "duration": 5,
    "start_time": "2023-01-12T11:30:26.947Z"
   },
   {
    "duration": 91,
    "start_time": "2023-01-12T11:30:26.954Z"
   },
   {
    "duration": 9,
    "start_time": "2023-01-12T11:30:27.047Z"
   },
   {
    "duration": 229,
    "start_time": "2023-01-12T11:30:27.058Z"
   },
   {
    "duration": 195,
    "start_time": "2023-01-12T11:30:27.290Z"
   },
   {
    "duration": 7,
    "start_time": "2023-01-12T11:30:27.487Z"
   },
   {
    "duration": 281,
    "start_time": "2023-01-12T11:30:27.510Z"
   },
   {
    "duration": 24,
    "start_time": "2023-01-12T11:30:27.793Z"
   },
   {
    "duration": 14,
    "start_time": "2023-01-12T11:30:27.818Z"
   },
   {
    "duration": 29,
    "start_time": "2023-01-12T11:30:27.834Z"
   },
   {
    "duration": 9,
    "start_time": "2023-01-12T11:30:27.865Z"
   },
   {
    "duration": 732,
    "start_time": "2023-01-12T11:30:27.875Z"
   },
   {
    "duration": 180006,
    "start_time": "2023-01-12T11:30:28.618Z"
   },
   {
    "duration": 1625,
    "start_time": "2023-01-12T12:24:19.873Z"
   },
   {
    "duration": 9,
    "start_time": "2023-01-12T12:24:21.500Z"
   },
   {
    "duration": 79,
    "start_time": "2023-01-12T12:24:21.510Z"
   },
   {
    "duration": 9,
    "start_time": "2023-01-12T12:24:21.591Z"
   },
   {
    "duration": 62,
    "start_time": "2023-01-12T12:24:21.602Z"
   },
   {
    "duration": 14,
    "start_time": "2023-01-12T12:24:21.666Z"
   },
   {
    "duration": 28,
    "start_time": "2023-01-12T12:24:21.682Z"
   },
   {
    "duration": 14,
    "start_time": "2023-01-12T12:24:21.716Z"
   },
   {
    "duration": 94,
    "start_time": "2023-01-12T12:24:21.733Z"
   },
   {
    "duration": 13,
    "start_time": "2023-01-12T12:24:21.831Z"
   },
   {
    "duration": 256,
    "start_time": "2023-01-12T12:24:21.846Z"
   },
   {
    "duration": 202,
    "start_time": "2023-01-12T12:24:22.106Z"
   },
   {
    "duration": 11,
    "start_time": "2023-01-12T12:24:22.310Z"
   },
   {
    "duration": 251,
    "start_time": "2023-01-12T12:24:22.323Z"
   },
   {
    "duration": 13,
    "start_time": "2023-01-12T12:24:22.575Z"
   },
   {
    "duration": 28,
    "start_time": "2023-01-12T12:24:22.590Z"
   },
   {
    "duration": 24,
    "start_time": "2023-01-12T12:24:22.620Z"
   },
   {
    "duration": 35,
    "start_time": "2023-01-12T12:24:22.646Z"
   },
   {
    "duration": 743,
    "start_time": "2023-01-12T12:24:22.683Z"
   },
   {
    "duration": 190488,
    "start_time": "2023-01-12T12:24:23.510Z"
   },
   {
    "duration": 1789,
    "start_time": "2023-01-12T15:56:05.597Z"
   },
   {
    "duration": 6,
    "start_time": "2023-01-12T15:56:07.388Z"
   },
   {
    "duration": 199,
    "start_time": "2023-01-12T15:56:07.396Z"
   },
   {
    "duration": 9,
    "start_time": "2023-01-12T15:56:07.597Z"
   },
   {
    "duration": 13,
    "start_time": "2023-01-12T15:56:07.607Z"
   },
   {
    "duration": 11,
    "start_time": "2023-01-12T15:56:07.621Z"
   },
   {
    "duration": 20,
    "start_time": "2023-01-12T15:56:07.634Z"
   },
   {
    "duration": 4,
    "start_time": "2023-01-12T15:56:07.656Z"
   },
   {
    "duration": 73,
    "start_time": "2023-01-12T15:56:07.661Z"
   },
   {
    "duration": 8,
    "start_time": "2023-01-12T15:56:07.737Z"
   },
   {
    "duration": 233,
    "start_time": "2023-01-12T15:56:07.747Z"
   },
   {
    "duration": 185,
    "start_time": "2023-01-12T15:56:07.982Z"
   },
   {
    "duration": 7,
    "start_time": "2023-01-12T15:56:08.168Z"
   },
   {
    "duration": 242,
    "start_time": "2023-01-12T15:56:08.177Z"
   },
   {
    "duration": 14,
    "start_time": "2023-01-12T15:56:08.420Z"
   },
   {
    "duration": 4,
    "start_time": "2023-01-12T15:56:08.435Z"
   },
   {
    "duration": 7,
    "start_time": "2023-01-12T15:56:08.441Z"
   },
   {
    "duration": 8,
    "start_time": "2023-01-12T15:56:08.450Z"
   },
   {
    "duration": 751,
    "start_time": "2023-01-12T15:56:08.460Z"
   },
   {
    "duration": 169656,
    "start_time": "2023-01-12T15:56:09.217Z"
   },
   {
    "duration": 1478,
    "start_time": "2023-01-12T16:38:50.598Z"
   },
   {
    "duration": 6,
    "start_time": "2023-01-12T16:38:52.078Z"
   },
   {
    "duration": 63,
    "start_time": "2023-01-12T16:38:52.086Z"
   },
   {
    "duration": 8,
    "start_time": "2023-01-12T16:38:52.151Z"
   },
   {
    "duration": 13,
    "start_time": "2023-01-12T16:38:52.162Z"
   },
   {
    "duration": 41,
    "start_time": "2023-01-12T16:38:52.177Z"
   },
   {
    "duration": 28,
    "start_time": "2023-01-12T16:38:52.220Z"
   },
   {
    "duration": 5,
    "start_time": "2023-01-12T16:38:52.250Z"
   },
   {
    "duration": 55,
    "start_time": "2023-01-12T16:38:52.256Z"
   },
   {
    "duration": 11,
    "start_time": "2023-01-12T16:38:52.314Z"
   },
   {
    "duration": 214,
    "start_time": "2023-01-12T16:38:52.326Z"
   },
   {
    "duration": 222,
    "start_time": "2023-01-12T16:38:52.542Z"
   },
   {
    "duration": 8,
    "start_time": "2023-01-12T16:38:52.767Z"
   },
   {
    "duration": 251,
    "start_time": "2023-01-12T16:38:52.779Z"
   },
   {
    "duration": 14,
    "start_time": "2023-01-12T16:38:53.032Z"
   },
   {
    "duration": 4,
    "start_time": "2023-01-12T16:38:53.048Z"
   },
   {
    "duration": 8,
    "start_time": "2023-01-12T16:38:53.053Z"
   },
   {
    "duration": 10,
    "start_time": "2023-01-12T16:38:53.062Z"
   },
   {
    "duration": 744,
    "start_time": "2023-01-12T16:38:53.074Z"
   },
   {
    "duration": 164414,
    "start_time": "2023-01-12T16:38:53.821Z"
   },
   {
    "duration": 466978,
    "start_time": "2023-01-12T16:41:38.237Z"
   },
   {
    "duration": 1226071,
    "start_time": "2023-01-12T16:49:25.217Z"
   },
   {
    "duration": 8,
    "start_time": "2023-01-12T17:09:51.291Z"
   },
   {
    "duration": 232,
    "start_time": "2023-01-12T17:09:51.301Z"
   },
   {
    "duration": 81,
    "start_time": "2023-01-14T16:09:21.212Z"
   },
   {
    "duration": 2003,
    "start_time": "2023-01-14T18:14:01.338Z"
   },
   {
    "duration": 291,
    "start_time": "2023-01-14T18:14:03.344Z"
   },
   {
    "duration": 10,
    "start_time": "2023-01-14T18:14:03.637Z"
   },
   {
    "duration": 18,
    "start_time": "2023-01-14T18:14:03.649Z"
   },
   {
    "duration": 11,
    "start_time": "2023-01-14T18:14:03.670Z"
   },
   {
    "duration": 16,
    "start_time": "2023-01-14T18:14:03.683Z"
   },
   {
    "duration": 5,
    "start_time": "2023-01-14T18:14:03.701Z"
   },
   {
    "duration": 77,
    "start_time": "2023-01-14T18:14:03.707Z"
   },
   {
    "duration": 10,
    "start_time": "2023-01-14T18:14:03.786Z"
   },
   {
    "duration": 259,
    "start_time": "2023-01-14T18:14:03.798Z"
   },
   {
    "duration": 235,
    "start_time": "2023-01-14T18:14:04.059Z"
   },
   {
    "duration": 8,
    "start_time": "2023-01-14T18:14:04.296Z"
   },
   {
    "duration": 276,
    "start_time": "2023-01-14T18:14:04.306Z"
   },
   {
    "duration": 13,
    "start_time": "2023-01-14T18:14:04.585Z"
   },
   {
    "duration": 4,
    "start_time": "2023-01-14T18:14:04.600Z"
   },
   {
    "duration": 6,
    "start_time": "2023-01-14T18:14:04.605Z"
   },
   {
    "duration": 10,
    "start_time": "2023-01-14T18:14:04.612Z"
   },
   {
    "duration": 729,
    "start_time": "2023-01-14T18:14:04.624Z"
   },
   {
    "duration": 183438,
    "start_time": "2023-01-14T18:14:05.356Z"
   },
   {
    "duration": 202663,
    "start_time": "2023-01-14T18:17:08.795Z"
   },
   {
    "duration": 1582,
    "start_time": "2023-01-14T18:21:02.231Z"
   },
   {
    "duration": 60,
    "start_time": "2023-01-14T18:21:03.816Z"
   },
   {
    "duration": 9,
    "start_time": "2023-01-14T18:21:03.878Z"
   },
   {
    "duration": 12,
    "start_time": "2023-01-14T18:21:03.888Z"
   },
   {
    "duration": 11,
    "start_time": "2023-01-14T18:21:03.902Z"
   },
   {
    "duration": 40,
    "start_time": "2023-01-14T18:21:03.915Z"
   },
   {
    "duration": 5,
    "start_time": "2023-01-14T18:21:03.957Z"
   },
   {
    "duration": 63,
    "start_time": "2023-01-14T18:21:03.963Z"
   },
   {
    "duration": 23,
    "start_time": "2023-01-14T18:21:04.028Z"
   },
   {
    "duration": 254,
    "start_time": "2023-01-14T18:21:04.053Z"
   },
   {
    "duration": 212,
    "start_time": "2023-01-14T18:21:04.309Z"
   },
   {
    "duration": 8,
    "start_time": "2023-01-14T18:21:04.523Z"
   },
   {
    "duration": 277,
    "start_time": "2023-01-14T18:21:04.532Z"
   },
   {
    "duration": 14,
    "start_time": "2023-01-14T18:21:04.811Z"
   },
   {
    "duration": 4,
    "start_time": "2023-01-14T18:21:04.826Z"
   },
   {
    "duration": 3,
    "start_time": "2023-01-14T18:21:04.851Z"
   },
   {
    "duration": 16,
    "start_time": "2023-01-14T18:21:04.855Z"
   },
   {
    "duration": 686,
    "start_time": "2023-01-14T18:21:04.873Z"
   },
   {
    "duration": 185210,
    "start_time": "2023-01-14T18:21:05.562Z"
   },
   {
    "duration": 556309,
    "start_time": "2023-01-14T18:24:10.774Z"
   },
   {
    "duration": 1635,
    "start_time": "2023-01-14T18:33:47.713Z"
   },
   {
    "duration": 56,
    "start_time": "2023-01-14T18:33:49.351Z"
   },
   {
    "duration": 13,
    "start_time": "2023-01-14T18:33:49.409Z"
   },
   {
    "duration": 17,
    "start_time": "2023-01-14T18:33:49.424Z"
   },
   {
    "duration": 14,
    "start_time": "2023-01-14T18:33:49.445Z"
   },
   {
    "duration": 17,
    "start_time": "2023-01-14T18:33:49.462Z"
   },
   {
    "duration": 6,
    "start_time": "2023-01-14T18:33:49.481Z"
   },
   {
    "duration": 83,
    "start_time": "2023-01-14T18:33:49.489Z"
   },
   {
    "duration": 12,
    "start_time": "2023-01-14T18:33:49.574Z"
   },
   {
    "duration": 309,
    "start_time": "2023-01-14T18:33:49.589Z"
   },
   {
    "duration": 225,
    "start_time": "2023-01-14T18:33:49.900Z"
   },
   {
    "duration": 8,
    "start_time": "2023-01-14T18:33:50.127Z"
   },
   {
    "duration": 279,
    "start_time": "2023-01-14T18:33:50.136Z"
   },
   {
    "duration": 14,
    "start_time": "2023-01-14T18:33:50.419Z"
   },
   {
    "duration": 18,
    "start_time": "2023-01-14T18:33:50.435Z"
   },
   {
    "duration": 14,
    "start_time": "2023-01-14T18:33:50.455Z"
   },
   {
    "duration": 22,
    "start_time": "2023-01-14T18:33:50.471Z"
   },
   {
    "duration": 856,
    "start_time": "2023-01-14T18:33:50.496Z"
   },
   {
    "duration": 182732,
    "start_time": "2023-01-14T18:33:51.354Z"
   },
   {
    "duration": 585896,
    "start_time": "2023-01-14T18:36:54.088Z"
   },
   {
    "duration": 1507,
    "start_time": "2023-01-14T18:47:10.985Z"
   },
   {
    "duration": 54,
    "start_time": "2023-01-14T18:47:12.494Z"
   },
   {
    "duration": 9,
    "start_time": "2023-01-14T18:47:12.549Z"
   },
   {
    "duration": 19,
    "start_time": "2023-01-14T18:47:12.560Z"
   },
   {
    "duration": 13,
    "start_time": "2023-01-14T18:47:12.582Z"
   },
   {
    "duration": 24,
    "start_time": "2023-01-14T18:47:12.596Z"
   },
   {
    "duration": 5,
    "start_time": "2023-01-14T18:47:12.623Z"
   },
   {
    "duration": 75,
    "start_time": "2023-01-14T18:47:12.629Z"
   },
   {
    "duration": 10,
    "start_time": "2023-01-14T18:47:12.706Z"
   },
   {
    "duration": 249,
    "start_time": "2023-01-14T18:47:12.717Z"
   },
   {
    "duration": 206,
    "start_time": "2023-01-14T18:47:12.968Z"
   },
   {
    "duration": 8,
    "start_time": "2023-01-14T18:47:13.176Z"
   },
   {
    "duration": 267,
    "start_time": "2023-01-14T18:47:13.186Z"
   },
   {
    "duration": 13,
    "start_time": "2023-01-14T18:47:13.456Z"
   },
   {
    "duration": 5,
    "start_time": "2023-01-14T18:47:13.471Z"
   },
   {
    "duration": 6,
    "start_time": "2023-01-14T18:47:13.478Z"
   },
   {
    "duration": 13,
    "start_time": "2023-01-14T18:47:13.485Z"
   },
   {
    "duration": 664,
    "start_time": "2023-01-14T18:47:13.500Z"
   },
   {
    "duration": 3,
    "start_time": "2023-01-14T18:47:14.252Z"
   },
   {
    "duration": 1514,
    "start_time": "2023-01-14T18:47:45.049Z"
   },
   {
    "duration": 56,
    "start_time": "2023-01-14T18:47:46.566Z"
   },
   {
    "duration": 9,
    "start_time": "2023-01-14T18:47:46.624Z"
   },
   {
    "duration": 10,
    "start_time": "2023-01-14T18:47:46.635Z"
   },
   {
    "duration": 10,
    "start_time": "2023-01-14T18:47:46.647Z"
   },
   {
    "duration": 16,
    "start_time": "2023-01-14T18:47:46.658Z"
   },
   {
    "duration": 4,
    "start_time": "2023-01-14T18:47:46.675Z"
   },
   {
    "duration": 75,
    "start_time": "2023-01-14T18:47:46.681Z"
   },
   {
    "duration": 10,
    "start_time": "2023-01-14T18:47:46.758Z"
   },
   {
    "duration": 245,
    "start_time": "2023-01-14T18:47:46.770Z"
   },
   {
    "duration": 206,
    "start_time": "2023-01-14T18:47:47.017Z"
   },
   {
    "duration": 8,
    "start_time": "2023-01-14T18:47:47.224Z"
   },
   {
    "duration": 260,
    "start_time": "2023-01-14T18:47:47.233Z"
   },
   {
    "duration": 12,
    "start_time": "2023-01-14T18:47:47.496Z"
   },
   {
    "duration": 4,
    "start_time": "2023-01-14T18:47:47.509Z"
   },
   {
    "duration": 5,
    "start_time": "2023-01-14T18:47:47.515Z"
   },
   {
    "duration": 6,
    "start_time": "2023-01-14T18:47:47.522Z"
   },
   {
    "duration": 824,
    "start_time": "2023-01-14T18:47:47.529Z"
   },
   {
    "duration": 2,
    "start_time": "2023-01-14T18:47:48.355Z"
   },
   {
    "duration": 14001,
    "start_time": "2023-01-14T18:47:48.359Z"
   },
   {
    "duration": 43211,
    "start_time": "2023-01-14T18:48:02.362Z"
   },
   {
    "duration": 12,
    "start_time": "2023-01-14T18:48:45.575Z"
   },
   {
    "duration": 0,
    "start_time": "2023-01-14T18:48:45.588Z"
   },
   {
    "duration": 1603,
    "start_time": "2023-01-14T18:49:09.820Z"
   },
   {
    "duration": 55,
    "start_time": "2023-01-14T18:49:11.426Z"
   },
   {
    "duration": 9,
    "start_time": "2023-01-14T18:49:11.483Z"
   },
   {
    "duration": 12,
    "start_time": "2023-01-14T18:49:11.494Z"
   },
   {
    "duration": 9,
    "start_time": "2023-01-14T18:49:11.508Z"
   },
   {
    "duration": 35,
    "start_time": "2023-01-14T18:49:11.519Z"
   },
   {
    "duration": 5,
    "start_time": "2023-01-14T18:49:11.556Z"
   },
   {
    "duration": 58,
    "start_time": "2023-01-14T18:49:11.562Z"
   },
   {
    "duration": 9,
    "start_time": "2023-01-14T18:49:11.621Z"
   },
   {
    "duration": 239,
    "start_time": "2023-01-14T18:49:11.631Z"
   },
   {
    "duration": 208,
    "start_time": "2023-01-14T18:49:11.872Z"
   },
   {
    "duration": 7,
    "start_time": "2023-01-14T18:49:12.082Z"
   },
   {
    "duration": 278,
    "start_time": "2023-01-14T18:49:12.091Z"
   },
   {
    "duration": 13,
    "start_time": "2023-01-14T18:49:12.371Z"
   },
   {
    "duration": 15,
    "start_time": "2023-01-14T18:49:12.385Z"
   },
   {
    "duration": 26,
    "start_time": "2023-01-14T18:49:12.402Z"
   },
   {
    "duration": 23,
    "start_time": "2023-01-14T18:49:12.429Z"
   },
   {
    "duration": 701,
    "start_time": "2023-01-14T18:49:12.454Z"
   },
   {
    "duration": 3,
    "start_time": "2023-01-14T18:49:13.157Z"
   },
   {
    "duration": 166330,
    "start_time": "2023-01-14T18:49:13.250Z"
   },
   {
    "duration": 1568,
    "start_time": "2023-01-14T18:52:15.741Z"
   },
   {
    "duration": 57,
    "start_time": "2023-01-14T18:52:17.311Z"
   },
   {
    "duration": 10,
    "start_time": "2023-01-14T18:52:17.370Z"
   },
   {
    "duration": 32,
    "start_time": "2023-01-14T18:52:17.382Z"
   },
   {
    "duration": 23,
    "start_time": "2023-01-14T18:52:17.417Z"
   },
   {
    "duration": 52,
    "start_time": "2023-01-14T18:52:17.443Z"
   },
   {
    "duration": 4,
    "start_time": "2023-01-14T18:52:17.497Z"
   },
   {
    "duration": 94,
    "start_time": "2023-01-14T18:52:17.504Z"
   },
   {
    "duration": 9,
    "start_time": "2023-01-14T18:52:17.600Z"
   },
   {
    "duration": 252,
    "start_time": "2023-01-14T18:52:17.610Z"
   },
   {
    "duration": 419,
    "start_time": "2023-01-14T18:52:17.864Z"
   },
   {
    "duration": 9,
    "start_time": "2023-01-14T18:52:18.286Z"
   },
   {
    "duration": 589,
    "start_time": "2023-01-14T18:52:18.297Z"
   },
   {
    "duration": 65,
    "start_time": "2023-01-14T18:52:18.888Z"
   },
   {
    "duration": 4,
    "start_time": "2023-01-14T18:52:18.955Z"
   },
   {
    "duration": 6,
    "start_time": "2023-01-14T18:52:18.961Z"
   },
   {
    "duration": 10,
    "start_time": "2023-01-14T18:52:18.969Z"
   },
   {
    "duration": 873,
    "start_time": "2023-01-14T18:52:18.982Z"
   },
   {
    "duration": 3,
    "start_time": "2023-01-14T18:52:19.858Z"
   },
   {
    "duration": 1566,
    "start_time": "2023-01-14T18:55:20.320Z"
   },
   {
    "duration": 53,
    "start_time": "2023-01-14T18:55:21.888Z"
   },
   {
    "duration": 10,
    "start_time": "2023-01-14T18:55:21.943Z"
   },
   {
    "duration": 21,
    "start_time": "2023-01-14T18:55:21.955Z"
   },
   {
    "duration": 10,
    "start_time": "2023-01-14T18:55:21.978Z"
   },
   {
    "duration": 27,
    "start_time": "2023-01-14T18:55:21.990Z"
   },
   {
    "duration": 25,
    "start_time": "2023-01-14T18:55:22.018Z"
   },
   {
    "duration": 65,
    "start_time": "2023-01-14T18:55:22.045Z"
   },
   {
    "duration": 10,
    "start_time": "2023-01-14T18:55:22.112Z"
   },
   {
    "duration": 236,
    "start_time": "2023-01-14T18:55:22.124Z"
   },
   {
    "duration": 217,
    "start_time": "2023-01-14T18:55:22.362Z"
   },
   {
    "duration": 7,
    "start_time": "2023-01-14T18:55:22.580Z"
   },
   {
    "duration": 268,
    "start_time": "2023-01-14T18:55:22.589Z"
   },
   {
    "duration": 12,
    "start_time": "2023-01-14T18:55:22.859Z"
   },
   {
    "duration": 15,
    "start_time": "2023-01-14T18:55:22.873Z"
   },
   {
    "duration": 10,
    "start_time": "2023-01-14T18:55:22.890Z"
   },
   {
    "duration": 22,
    "start_time": "2023-01-14T18:55:22.902Z"
   },
   {
    "duration": 829,
    "start_time": "2023-01-14T18:55:22.926Z"
   },
   {
    "duration": 93,
    "start_time": "2023-01-14T18:55:23.759Z"
   },
   {
    "duration": 521607,
    "start_time": "2023-01-14T18:55:23.854Z"
   },
   {
    "duration": 38371,
    "start_time": "2023-01-14T19:04:05.463Z"
   },
   {
    "duration": 15,
    "start_time": "2023-01-14T19:04:43.836Z"
   },
   {
    "duration": 0,
    "start_time": "2023-01-14T19:04:43.853Z"
   },
   {
    "duration": 2455,
    "start_time": "2023-01-14T19:05:12.866Z"
   },
   {
    "duration": 54,
    "start_time": "2023-01-14T19:05:15.323Z"
   },
   {
    "duration": 13,
    "start_time": "2023-01-14T19:05:15.379Z"
   },
   {
    "duration": 20,
    "start_time": "2023-01-14T19:05:15.394Z"
   },
   {
    "duration": 11,
    "start_time": "2023-01-14T19:05:15.418Z"
   },
   {
    "duration": 15,
    "start_time": "2023-01-14T19:05:15.450Z"
   },
   {
    "duration": 5,
    "start_time": "2023-01-14T19:05:15.466Z"
   },
   {
    "duration": 79,
    "start_time": "2023-01-14T19:05:15.473Z"
   },
   {
    "duration": 10,
    "start_time": "2023-01-14T19:05:15.554Z"
   },
   {
    "duration": 248,
    "start_time": "2023-01-14T19:05:15.566Z"
   },
   {
    "duration": 233,
    "start_time": "2023-01-14T19:05:15.817Z"
   },
   {
    "duration": 9,
    "start_time": "2023-01-14T19:05:16.052Z"
   },
   {
    "duration": 293,
    "start_time": "2023-01-14T19:05:16.063Z"
   },
   {
    "duration": 13,
    "start_time": "2023-01-14T19:05:16.359Z"
   },
   {
    "duration": 4,
    "start_time": "2023-01-14T19:05:16.374Z"
   },
   {
    "duration": 7,
    "start_time": "2023-01-14T19:05:16.379Z"
   },
   {
    "duration": 6,
    "start_time": "2023-01-14T19:05:16.387Z"
   },
   {
    "duration": 555,
    "start_time": "2023-01-14T19:05:16.395Z"
   },
   {
    "duration": 4,
    "start_time": "2023-01-14T19:05:16.953Z"
   },
   {
    "duration": 6617,
    "start_time": "2023-01-14T19:05:16.959Z"
   },
   {
    "duration": 1581,
    "start_time": "2023-01-14T19:05:52.408Z"
   },
   {
    "duration": 56,
    "start_time": "2023-01-14T19:05:53.991Z"
   },
   {
    "duration": 10,
    "start_time": "2023-01-14T19:05:54.049Z"
   },
   {
    "duration": 16,
    "start_time": "2023-01-14T19:05:54.061Z"
   },
   {
    "duration": 23,
    "start_time": "2023-01-14T19:05:54.080Z"
   },
   {
    "duration": 43,
    "start_time": "2023-01-14T19:05:54.104Z"
   },
   {
    "duration": 4,
    "start_time": "2023-01-14T19:05:54.150Z"
   },
   {
    "duration": 88,
    "start_time": "2023-01-14T19:05:54.156Z"
   },
   {
    "duration": 9,
    "start_time": "2023-01-14T19:05:54.245Z"
   },
   {
    "duration": 248,
    "start_time": "2023-01-14T19:05:54.256Z"
   },
   {
    "duration": 217,
    "start_time": "2023-01-14T19:05:54.506Z"
   },
   {
    "duration": 11,
    "start_time": "2023-01-14T19:05:54.726Z"
   },
   {
    "duration": 290,
    "start_time": "2023-01-14T19:05:54.751Z"
   },
   {
    "duration": 14,
    "start_time": "2023-01-14T19:05:55.051Z"
   },
   {
    "duration": 9,
    "start_time": "2023-01-14T19:05:55.067Z"
   },
   {
    "duration": 15,
    "start_time": "2023-01-14T19:05:55.078Z"
   },
   {
    "duration": 8,
    "start_time": "2023-01-14T19:05:55.094Z"
   },
   {
    "duration": 652,
    "start_time": "2023-01-14T19:05:55.104Z"
   },
   {
    "duration": 181013,
    "start_time": "2023-01-14T19:05:55.758Z"
   },
   {
    "duration": 1306864,
    "start_time": "2023-01-14T19:11:18.361Z"
   },
   {
    "duration": 7,
    "start_time": "2023-01-14T19:33:05.226Z"
   },
   {
    "duration": 308,
    "start_time": "2023-01-14T19:33:05.235Z"
   },
   {
    "duration": 1752,
    "start_time": "2023-01-14T20:04:58.234Z"
   },
   {
    "duration": 73,
    "start_time": "2023-01-14T20:04:59.989Z"
   },
   {
    "duration": 17,
    "start_time": "2023-01-14T20:05:00.065Z"
   },
   {
    "duration": 65,
    "start_time": "2023-01-14T20:05:00.087Z"
   },
   {
    "duration": 99,
    "start_time": "2023-01-14T20:05:00.155Z"
   },
   {
    "duration": 96,
    "start_time": "2023-01-14T20:05:00.256Z"
   },
   {
    "duration": 14,
    "start_time": "2023-01-14T20:05:00.355Z"
   },
   {
    "duration": 208,
    "start_time": "2023-01-14T20:05:00.371Z"
   },
   {
    "duration": 17,
    "start_time": "2023-01-14T20:05:00.581Z"
   },
   {
    "duration": 807,
    "start_time": "2023-01-14T20:05:00.650Z"
   },
   {
    "duration": 710,
    "start_time": "2023-01-14T20:05:01.461Z"
   },
   {
    "duration": 13,
    "start_time": "2023-01-14T20:05:02.175Z"
   },
   {
    "duration": 822,
    "start_time": "2023-01-14T20:05:02.191Z"
   },
   {
    "duration": 37,
    "start_time": "2023-01-14T20:05:03.016Z"
   },
   {
    "duration": 53,
    "start_time": "2023-01-14T20:05:03.060Z"
   },
   {
    "duration": 31,
    "start_time": "2023-01-14T20:05:03.116Z"
   },
   {
    "duration": 38,
    "start_time": "2023-01-14T20:05:03.150Z"
   },
   {
    "duration": 1864,
    "start_time": "2023-01-14T20:05:03.194Z"
   },
   {
    "duration": 189575,
    "start_time": "2023-01-14T20:05:05.065Z"
   },
   {
    "duration": 1582850,
    "start_time": "2023-01-14T20:08:14.642Z"
   },
   {
    "duration": 2609,
    "start_time": "2023-01-14T20:34:44.078Z"
   },
   {
    "duration": 77,
    "start_time": "2023-01-14T20:34:46.690Z"
   },
   {
    "duration": 14,
    "start_time": "2023-01-14T20:34:46.773Z"
   },
   {
    "duration": 23,
    "start_time": "2023-01-14T20:34:46.790Z"
   },
   {
    "duration": 41,
    "start_time": "2023-01-14T20:34:46.817Z"
   },
   {
    "duration": 36,
    "start_time": "2023-01-14T20:34:46.861Z"
   },
   {
    "duration": 7,
    "start_time": "2023-01-14T20:34:46.899Z"
   },
   {
    "duration": 115,
    "start_time": "2023-01-14T20:34:46.909Z"
   },
   {
    "duration": 13,
    "start_time": "2023-01-14T20:34:47.027Z"
   },
   {
    "duration": 404,
    "start_time": "2023-01-14T20:34:47.050Z"
   },
   {
    "duration": 257,
    "start_time": "2023-01-14T20:34:47.459Z"
   },
   {
    "duration": 11,
    "start_time": "2023-01-14T20:34:47.718Z"
   },
   {
    "duration": 348,
    "start_time": "2023-01-14T20:34:47.731Z"
   },
   {
    "duration": 16,
    "start_time": "2023-01-14T20:34:48.083Z"
   },
   {
    "duration": 30,
    "start_time": "2023-01-14T20:34:48.102Z"
   },
   {
    "duration": 13,
    "start_time": "2023-01-14T20:34:48.135Z"
   },
   {
    "duration": 37,
    "start_time": "2023-01-14T20:34:48.155Z"
   },
   {
    "duration": 980,
    "start_time": "2023-01-14T20:34:48.194Z"
   },
   {
    "duration": 191979,
    "start_time": "2023-01-14T20:34:49.250Z"
   },
   {
    "duration": 1567,
    "start_time": "2023-01-14T22:10:45.132Z"
   },
   {
    "duration": 55,
    "start_time": "2023-01-14T22:10:46.701Z"
   },
   {
    "duration": 9,
    "start_time": "2023-01-14T22:10:46.757Z"
   },
   {
    "duration": 21,
    "start_time": "2023-01-14T22:10:46.768Z"
   },
   {
    "duration": 15,
    "start_time": "2023-01-14T22:10:46.792Z"
   },
   {
    "duration": 28,
    "start_time": "2023-01-14T22:10:46.809Z"
   },
   {
    "duration": 9,
    "start_time": "2023-01-14T22:10:46.838Z"
   },
   {
    "duration": 61,
    "start_time": "2023-01-14T22:10:46.849Z"
   },
   {
    "duration": 10,
    "start_time": "2023-01-14T22:10:46.911Z"
   },
   {
    "duration": 252,
    "start_time": "2023-01-14T22:10:46.922Z"
   },
   {
    "duration": 216,
    "start_time": "2023-01-14T22:10:47.176Z"
   },
   {
    "duration": 7,
    "start_time": "2023-01-14T22:10:47.394Z"
   },
   {
    "duration": 274,
    "start_time": "2023-01-14T22:10:47.402Z"
   },
   {
    "duration": 12,
    "start_time": "2023-01-14T22:10:47.678Z"
   },
   {
    "duration": 4,
    "start_time": "2023-01-14T22:10:47.692Z"
   },
   {
    "duration": 18,
    "start_time": "2023-01-14T22:10:47.698Z"
   },
   {
    "duration": 21,
    "start_time": "2023-01-14T22:10:47.718Z"
   },
   {
    "duration": 513,
    "start_time": "2023-01-14T22:10:47.741Z"
   },
   {
    "duration": 180721,
    "start_time": "2023-01-14T22:10:48.256Z"
   },
   {
    "duration": 141781,
    "start_time": "2023-01-14T22:13:48.979Z"
   },
   {
    "duration": 1085051,
    "start_time": "2023-01-14T22:16:10.762Z"
   },
   {
    "duration": 6,
    "start_time": "2023-01-14T22:34:15.815Z"
   },
   {
    "duration": 300,
    "start_time": "2023-01-14T22:34:15.822Z"
   },
   {
    "duration": 2207,
    "start_time": "2023-01-15T05:58:20.960Z"
   },
   {
    "duration": 117,
    "start_time": "2023-01-15T05:58:23.168Z"
   },
   {
    "duration": 8,
    "start_time": "2023-01-15T06:00:40.555Z"
   },
   {
    "duration": 12,
    "start_time": "2023-01-15T06:00:40.984Z"
   },
   {
    "duration": 13,
    "start_time": "2023-01-15T06:00:42.328Z"
   },
   {
    "duration": 11,
    "start_time": "2023-01-15T06:00:43.460Z"
   },
   {
    "duration": 2,
    "start_time": "2023-01-15T06:08:03.957Z"
   },
   {
    "duration": 4,
    "start_time": "2023-01-15T06:08:15.843Z"
   },
   {
    "duration": 58,
    "start_time": "2023-01-15T06:08:16.824Z"
   },
   {
    "duration": 8,
    "start_time": "2023-01-15T06:08:17.827Z"
   },
   {
    "duration": 228,
    "start_time": "2023-01-15T06:08:17.998Z"
   },
   {
    "duration": 185,
    "start_time": "2023-01-15T06:08:18.770Z"
   },
   {
    "duration": 8,
    "start_time": "2023-01-15T06:08:19.228Z"
   },
   {
    "duration": 224,
    "start_time": "2023-01-15T06:08:19.371Z"
   },
   {
    "duration": 12,
    "start_time": "2023-01-15T06:08:21.388Z"
   },
   {
    "duration": 4,
    "start_time": "2023-01-15T06:08:21.542Z"
   },
   {
    "duration": 2,
    "start_time": "2023-01-15T06:08:23.334Z"
   },
   {
    "duration": 4,
    "start_time": "2023-01-15T06:08:24.045Z"
   },
   {
    "duration": 813,
    "start_time": "2023-01-15T06:08:26.804Z"
   },
   {
    "duration": 1606,
    "start_time": "2023-01-15T16:48:33.779Z"
   },
   {
    "duration": 147,
    "start_time": "2023-01-15T16:48:35.387Z"
   },
   {
    "duration": 8,
    "start_time": "2023-01-15T16:48:35.536Z"
   },
   {
    "duration": 35,
    "start_time": "2023-01-15T16:48:35.546Z"
   },
   {
    "duration": 53,
    "start_time": "2023-01-15T16:48:35.583Z"
   },
   {
    "duration": 25,
    "start_time": "2023-01-15T16:48:35.638Z"
   },
   {
    "duration": 4,
    "start_time": "2023-01-15T16:48:35.664Z"
   },
   {
    "duration": 69,
    "start_time": "2023-01-15T16:48:35.670Z"
   },
   {
    "duration": 9,
    "start_time": "2023-01-15T16:48:35.740Z"
   },
   {
    "duration": 238,
    "start_time": "2023-01-15T16:48:35.750Z"
   },
   {
    "duration": 215,
    "start_time": "2023-01-15T16:48:35.990Z"
   },
   {
    "duration": 7,
    "start_time": "2023-01-15T16:48:36.206Z"
   },
   {
    "duration": 263,
    "start_time": "2023-01-15T16:48:36.215Z"
   },
   {
    "duration": 11,
    "start_time": "2023-01-15T16:48:36.481Z"
   },
   {
    "duration": 4,
    "start_time": "2023-01-15T16:48:36.494Z"
   },
   {
    "duration": 4,
    "start_time": "2023-01-15T16:48:36.500Z"
   },
   {
    "duration": 6,
    "start_time": "2023-01-15T16:48:36.506Z"
   },
   {
    "duration": 566,
    "start_time": "2023-01-15T16:48:36.513Z"
   },
   {
    "duration": 164271,
    "start_time": "2023-01-15T16:48:37.177Z"
   },
   {
    "duration": 173330,
    "start_time": "2023-01-15T16:51:21.450Z"
   },
   {
    "duration": 984609,
    "start_time": "2023-01-15T16:54:14.782Z"
   },
   {
    "duration": 120,
    "start_time": "2023-01-15T17:10:39.393Z"
   },
   {
    "duration": 0,
    "start_time": "2023-01-15T17:10:39.516Z"
   },
   {
    "duration": 0,
    "start_time": "2023-01-15T17:10:39.517Z"
   },
   {
    "duration": 10,
    "start_time": "2023-01-15T17:19:15.918Z"
   },
   {
    "duration": 1415,
    "start_time": "2023-01-15T17:19:38.153Z"
   },
   {
    "duration": 48,
    "start_time": "2023-01-15T17:19:39.570Z"
   },
   {
    "duration": 9,
    "start_time": "2023-01-15T17:19:39.619Z"
   },
   {
    "duration": 9,
    "start_time": "2023-01-15T17:19:39.629Z"
   },
   {
    "duration": 8,
    "start_time": "2023-01-15T17:19:39.640Z"
   },
   {
    "duration": 11,
    "start_time": "2023-01-15T17:19:39.649Z"
   },
   {
    "duration": 4,
    "start_time": "2023-01-15T17:19:39.661Z"
   },
   {
    "duration": 57,
    "start_time": "2023-01-15T17:19:39.666Z"
   },
   {
    "duration": 8,
    "start_time": "2023-01-15T17:19:39.724Z"
   },
   {
    "duration": 219,
    "start_time": "2023-01-15T17:19:39.734Z"
   },
   {
    "duration": 199,
    "start_time": "2023-01-15T17:19:39.955Z"
   },
   {
    "duration": 7,
    "start_time": "2023-01-15T17:19:40.156Z"
   },
   {
    "duration": 249,
    "start_time": "2023-01-15T17:19:40.164Z"
   },
   {
    "duration": 11,
    "start_time": "2023-01-15T17:19:40.415Z"
   },
   {
    "duration": 3,
    "start_time": "2023-01-15T17:19:40.427Z"
   },
   {
    "duration": 8,
    "start_time": "2023-01-15T17:19:40.432Z"
   },
   {
    "duration": 15,
    "start_time": "2023-01-15T17:19:40.441Z"
   },
   {
    "duration": 328,
    "start_time": "2023-01-15T17:19:40.458Z"
   },
   {
    "duration": 162465,
    "start_time": "2023-01-15T17:19:40.879Z"
   },
   {
    "duration": 113,
    "start_time": "2023-01-15T17:22:23.345Z"
   },
   {
    "duration": 0,
    "start_time": "2023-01-15T17:22:23.460Z"
   },
   {
    "duration": 0,
    "start_time": "2023-01-15T17:22:23.461Z"
   },
   {
    "duration": 0,
    "start_time": "2023-01-15T17:22:23.462Z"
   },
   {
    "duration": 0,
    "start_time": "2023-01-15T17:22:23.463Z"
   },
   {
    "duration": 0,
    "start_time": "2023-01-15T17:22:23.464Z"
   },
   {
    "duration": 1413,
    "start_time": "2023-01-15T17:28:27.962Z"
   },
   {
    "duration": 48,
    "start_time": "2023-01-15T17:28:29.379Z"
   },
   {
    "duration": 9,
    "start_time": "2023-01-15T17:28:29.428Z"
   },
   {
    "duration": 28,
    "start_time": "2023-01-15T17:28:29.438Z"
   },
   {
    "duration": 28,
    "start_time": "2023-01-15T17:28:29.468Z"
   },
   {
    "duration": 35,
    "start_time": "2023-01-15T17:28:29.498Z"
   },
   {
    "duration": 11,
    "start_time": "2023-01-15T17:28:29.535Z"
   },
   {
    "duration": 88,
    "start_time": "2023-01-15T17:28:29.549Z"
   },
   {
    "duration": 8,
    "start_time": "2023-01-15T17:28:29.640Z"
   },
   {
    "duration": 340,
    "start_time": "2023-01-15T17:28:29.651Z"
   },
   {
    "duration": 431,
    "start_time": "2023-01-15T17:28:29.993Z"
   },
   {
    "duration": 60,
    "start_time": "2023-01-15T17:28:30.426Z"
   },
   {
    "duration": 618,
    "start_time": "2023-01-15T17:28:30.488Z"
   },
   {
    "duration": 15,
    "start_time": "2023-01-15T17:28:31.108Z"
   },
   {
    "duration": 56,
    "start_time": "2023-01-15T17:28:31.125Z"
   },
   {
    "duration": 24,
    "start_time": "2023-01-15T17:28:31.183Z"
   },
   {
    "duration": 22,
    "start_time": "2023-01-15T17:28:31.209Z"
   },
   {
    "duration": 1248,
    "start_time": "2023-01-15T17:28:31.233Z"
   },
   {
    "duration": 168950,
    "start_time": "2023-01-15T17:28:32.485Z"
   },
   {
    "duration": 113,
    "start_time": "2023-01-15T17:31:21.437Z"
   },
   {
    "duration": 0,
    "start_time": "2023-01-15T17:31:21.552Z"
   },
   {
    "duration": 0,
    "start_time": "2023-01-15T17:31:21.553Z"
   },
   {
    "duration": 0,
    "start_time": "2023-01-15T17:31:21.555Z"
   },
   {
    "duration": 0,
    "start_time": "2023-01-15T17:31:21.556Z"
   },
   {
    "duration": 0,
    "start_time": "2023-01-15T17:31:21.557Z"
   },
   {
    "duration": 1528,
    "start_time": "2023-01-15T17:34:11.156Z"
   },
   {
    "duration": 51,
    "start_time": "2023-01-15T17:34:12.687Z"
   },
   {
    "duration": 11,
    "start_time": "2023-01-15T17:34:12.740Z"
   },
   {
    "duration": 25,
    "start_time": "2023-01-15T17:34:12.753Z"
   },
   {
    "duration": 43,
    "start_time": "2023-01-15T17:34:12.779Z"
   },
   {
    "duration": 50,
    "start_time": "2023-01-15T17:34:12.824Z"
   },
   {
    "duration": 14,
    "start_time": "2023-01-15T17:34:12.876Z"
   },
   {
    "duration": 87,
    "start_time": "2023-01-15T17:34:12.892Z"
   },
   {
    "duration": 10,
    "start_time": "2023-01-15T17:34:12.981Z"
   },
   {
    "duration": 265,
    "start_time": "2023-01-15T17:34:12.994Z"
   },
   {
    "duration": 188,
    "start_time": "2023-01-15T17:34:13.261Z"
   },
   {
    "duration": 9,
    "start_time": "2023-01-15T17:34:13.451Z"
   },
   {
    "duration": 252,
    "start_time": "2023-01-15T17:34:13.462Z"
   },
   {
    "duration": 11,
    "start_time": "2023-01-15T17:34:13.716Z"
   },
   {
    "duration": 11,
    "start_time": "2023-01-15T17:34:13.728Z"
   },
   {
    "duration": 17,
    "start_time": "2023-01-15T17:34:13.741Z"
   },
   {
    "duration": 24,
    "start_time": "2023-01-15T17:34:13.760Z"
   },
   {
    "duration": 599,
    "start_time": "2023-01-15T17:34:13.786Z"
   },
   {
    "duration": 172571,
    "start_time": "2023-01-15T17:34:14.387Z"
   },
   {
    "duration": 58,
    "start_time": "2023-01-15T17:37:06.960Z"
   },
   {
    "duration": 20489,
    "start_time": "2023-01-15T17:37:07.021Z"
   },
   {
    "duration": 166032,
    "start_time": "2023-01-15T17:37:27.511Z"
   },
   {
    "duration": 11,
    "start_time": "2023-01-15T17:40:13.545Z"
   },
   {
    "duration": 0,
    "start_time": "2023-01-15T17:40:13.558Z"
   },
   {
    "duration": 0,
    "start_time": "2023-01-15T17:40:13.559Z"
   },
   {
    "duration": 1394,
    "start_time": "2023-01-15T17:40:18.304Z"
   },
   {
    "duration": 51,
    "start_time": "2023-01-15T17:40:19.700Z"
   },
   {
    "duration": 10,
    "start_time": "2023-01-15T17:40:19.752Z"
   },
   {
    "duration": 11,
    "start_time": "2023-01-15T17:40:19.763Z"
   },
   {
    "duration": 9,
    "start_time": "2023-01-15T17:40:19.777Z"
   },
   {
    "duration": 18,
    "start_time": "2023-01-15T17:40:19.787Z"
   },
   {
    "duration": 4,
    "start_time": "2023-01-15T17:40:19.806Z"
   },
   {
    "duration": 76,
    "start_time": "2023-01-15T17:40:19.812Z"
   },
   {
    "duration": 10,
    "start_time": "2023-01-15T17:40:19.889Z"
   },
   {
    "duration": 237,
    "start_time": "2023-01-15T17:40:19.900Z"
   },
   {
    "duration": 211,
    "start_time": "2023-01-15T17:40:20.139Z"
   },
   {
    "duration": 7,
    "start_time": "2023-01-15T17:40:20.352Z"
   },
   {
    "duration": 269,
    "start_time": "2023-01-15T17:40:20.361Z"
   },
   {
    "duration": 12,
    "start_time": "2023-01-15T17:40:20.633Z"
   },
   {
    "duration": 4,
    "start_time": "2023-01-15T17:40:20.646Z"
   },
   {
    "duration": 11,
    "start_time": "2023-01-15T17:40:20.651Z"
   },
   {
    "duration": 18,
    "start_time": "2023-01-15T17:40:20.663Z"
   },
   {
    "duration": 696,
    "start_time": "2023-01-15T17:40:20.682Z"
   },
   {
    "duration": 163273,
    "start_time": "2023-01-15T17:40:21.381Z"
   },
   {
    "duration": 60,
    "start_time": "2023-01-15T17:43:04.656Z"
   },
   {
    "duration": 129677,
    "start_time": "2023-01-15T17:43:04.718Z"
   },
   {
    "duration": 124,
    "start_time": "2023-01-15T17:45:14.396Z"
   },
   {
    "duration": 18735,
    "start_time": "2023-01-15T17:45:14.522Z"
   },
   {
    "duration": 10,
    "start_time": "2023-01-15T17:45:33.259Z"
   },
   {
    "duration": 0,
    "start_time": "2023-01-15T17:45:33.270Z"
   },
   {
    "duration": 0,
    "start_time": "2023-01-15T17:45:33.271Z"
   },
   {
    "duration": 1375,
    "start_time": "2023-01-15T17:46:21.079Z"
   },
   {
    "duration": 49,
    "start_time": "2023-01-15T17:46:22.456Z"
   },
   {
    "duration": 9,
    "start_time": "2023-01-15T17:46:22.507Z"
   },
   {
    "duration": 11,
    "start_time": "2023-01-15T17:46:22.518Z"
   },
   {
    "duration": 12,
    "start_time": "2023-01-15T17:46:22.530Z"
   },
   {
    "duration": 34,
    "start_time": "2023-01-15T17:46:22.544Z"
   },
   {
    "duration": 6,
    "start_time": "2023-01-15T17:46:22.579Z"
   },
   {
    "duration": 51,
    "start_time": "2023-01-15T17:46:22.586Z"
   },
   {
    "duration": 7,
    "start_time": "2023-01-15T17:46:22.639Z"
   },
   {
    "duration": 243,
    "start_time": "2023-01-15T17:46:22.648Z"
   },
   {
    "duration": 198,
    "start_time": "2023-01-15T17:46:22.894Z"
   },
   {
    "duration": 6,
    "start_time": "2023-01-15T17:46:23.094Z"
   },
   {
    "duration": 233,
    "start_time": "2023-01-15T17:46:23.101Z"
   },
   {
    "duration": 11,
    "start_time": "2023-01-15T17:46:23.335Z"
   },
   {
    "duration": 3,
    "start_time": "2023-01-15T17:46:23.347Z"
   },
   {
    "duration": 6,
    "start_time": "2023-01-15T17:46:23.351Z"
   },
   {
    "duration": 22,
    "start_time": "2023-01-15T17:46:23.359Z"
   },
   {
    "duration": 800,
    "start_time": "2023-01-15T17:46:23.382Z"
   },
   {
    "duration": 163094,
    "start_time": "2023-01-15T17:46:24.184Z"
   },
   {
    "duration": 119,
    "start_time": "2023-01-15T17:49:07.280Z"
   },
   {
    "duration": 0,
    "start_time": "2023-01-15T17:49:07.400Z"
   },
   {
    "duration": 0,
    "start_time": "2023-01-15T17:49:07.401Z"
   },
   {
    "duration": 0,
    "start_time": "2023-01-15T17:49:07.402Z"
   },
   {
    "duration": 0,
    "start_time": "2023-01-15T17:49:07.403Z"
   },
   {
    "duration": 0,
    "start_time": "2023-01-15T17:49:07.404Z"
   },
   {
    "duration": 0,
    "start_time": "2023-01-15T17:49:07.405Z"
   },
   {
    "duration": 1428,
    "start_time": "2023-01-15T17:52:15.142Z"
   },
   {
    "duration": 50,
    "start_time": "2023-01-15T17:52:16.572Z"
   },
   {
    "duration": 8,
    "start_time": "2023-01-15T17:52:16.624Z"
   },
   {
    "duration": 11,
    "start_time": "2023-01-15T17:52:16.634Z"
   },
   {
    "duration": 9,
    "start_time": "2023-01-15T17:52:16.647Z"
   },
   {
    "duration": 12,
    "start_time": "2023-01-15T17:52:16.657Z"
   },
   {
    "duration": 9,
    "start_time": "2023-01-15T17:52:16.670Z"
   },
   {
    "duration": 49,
    "start_time": "2023-01-15T17:52:16.681Z"
   },
   {
    "duration": 8,
    "start_time": "2023-01-15T17:52:16.731Z"
   },
   {
    "duration": 223,
    "start_time": "2023-01-15T17:52:16.740Z"
   },
   {
    "duration": 205,
    "start_time": "2023-01-15T17:52:16.965Z"
   },
   {
    "duration": 10,
    "start_time": "2023-01-15T17:52:17.172Z"
   },
   {
    "duration": 247,
    "start_time": "2023-01-15T17:52:17.183Z"
   },
   {
    "duration": 11,
    "start_time": "2023-01-15T17:52:17.433Z"
   },
   {
    "duration": 4,
    "start_time": "2023-01-15T17:52:17.445Z"
   },
   {
    "duration": 5,
    "start_time": "2023-01-15T17:52:17.450Z"
   },
   {
    "duration": 21,
    "start_time": "2023-01-15T17:52:17.457Z"
   },
   {
    "duration": 702,
    "start_time": "2023-01-15T17:52:17.479Z"
   },
   {
    "duration": 169139,
    "start_time": "2023-01-15T17:52:18.277Z"
   },
   {
    "duration": 126,
    "start_time": "2023-01-15T17:55:07.418Z"
   },
   {
    "duration": 0,
    "start_time": "2023-01-15T17:55:07.546Z"
   },
   {
    "duration": 0,
    "start_time": "2023-01-15T17:55:07.547Z"
   },
   {
    "duration": 0,
    "start_time": "2023-01-15T17:55:07.548Z"
   },
   {
    "duration": 0,
    "start_time": "2023-01-15T17:55:07.549Z"
   },
   {
    "duration": 0,
    "start_time": "2023-01-15T17:55:07.550Z"
   },
   {
    "duration": 0,
    "start_time": "2023-01-15T17:55:07.551Z"
   },
   {
    "duration": 1348,
    "start_time": "2023-01-15T18:31:24.032Z"
   },
   {
    "duration": 49,
    "start_time": "2023-01-15T18:31:25.382Z"
   },
   {
    "duration": 9,
    "start_time": "2023-01-15T18:31:25.433Z"
   },
   {
    "duration": 10,
    "start_time": "2023-01-15T18:31:25.443Z"
   },
   {
    "duration": 8,
    "start_time": "2023-01-15T18:31:25.455Z"
   },
   {
    "duration": 13,
    "start_time": "2023-01-15T18:31:25.464Z"
   },
   {
    "duration": 3,
    "start_time": "2023-01-15T18:31:25.479Z"
   },
   {
    "duration": 50,
    "start_time": "2023-01-15T18:31:25.484Z"
   },
   {
    "duration": 8,
    "start_time": "2023-01-15T18:31:25.536Z"
   },
   {
    "duration": 226,
    "start_time": "2023-01-15T18:31:25.546Z"
   },
   {
    "duration": 194,
    "start_time": "2023-01-15T18:31:25.774Z"
   },
   {
    "duration": 8,
    "start_time": "2023-01-15T18:31:25.970Z"
   },
   {
    "duration": 247,
    "start_time": "2023-01-15T18:31:25.980Z"
   },
   {
    "duration": 12,
    "start_time": "2023-01-15T18:31:26.231Z"
   },
   {
    "duration": 4,
    "start_time": "2023-01-15T18:31:26.245Z"
   },
   {
    "duration": 4,
    "start_time": "2023-01-15T18:31:26.250Z"
   },
   {
    "duration": 23,
    "start_time": "2023-01-15T18:31:26.256Z"
   },
   {
    "duration": 704,
    "start_time": "2023-01-15T18:31:26.280Z"
   },
   {
    "duration": 158911,
    "start_time": "2023-01-15T18:31:26.987Z"
   },
   {
    "duration": 116387,
    "start_time": "2023-01-15T18:34:05.899Z"
   },
   {
    "duration": 397276,
    "start_time": "2023-01-15T18:36:02.288Z"
   },
   {
    "duration": 2,
    "start_time": "2023-01-15T18:42:39.566Z"
   },
   {
    "duration": 33,
    "start_time": "2023-01-15T18:42:39.569Z"
   },
   {
    "duration": 0,
    "start_time": "2023-01-15T18:42:39.603Z"
   },
   {
    "duration": 1449,
    "start_time": "2023-01-15T18:42:44.758Z"
   },
   {
    "duration": 49,
    "start_time": "2023-01-15T18:42:46.209Z"
   },
   {
    "duration": 11,
    "start_time": "2023-01-15T18:42:46.260Z"
   },
   {
    "duration": 14,
    "start_time": "2023-01-15T18:42:46.273Z"
   },
   {
    "duration": 12,
    "start_time": "2023-01-15T18:42:46.289Z"
   },
   {
    "duration": 16,
    "start_time": "2023-01-15T18:42:46.303Z"
   },
   {
    "duration": 4,
    "start_time": "2023-01-15T18:42:46.320Z"
   },
   {
    "duration": 25,
    "start_time": "2023-01-15T18:42:46.325Z"
   },
   {
    "duration": 9,
    "start_time": "2023-01-15T18:42:46.378Z"
   },
   {
    "duration": 213,
    "start_time": "2023-01-15T18:42:46.389Z"
   },
   {
    "duration": 198,
    "start_time": "2023-01-15T18:42:46.604Z"
   },
   {
    "duration": 10,
    "start_time": "2023-01-15T18:42:46.804Z"
   },
   {
    "duration": 272,
    "start_time": "2023-01-15T18:42:46.817Z"
   },
   {
    "duration": 10,
    "start_time": "2023-01-15T18:42:47.091Z"
   },
   {
    "duration": 6,
    "start_time": "2023-01-15T18:42:47.103Z"
   },
   {
    "duration": 7,
    "start_time": "2023-01-15T18:42:47.111Z"
   },
   {
    "duration": 11,
    "start_time": "2023-01-15T18:42:47.120Z"
   },
   {
    "duration": 29,
    "start_time": "2023-01-15T18:42:47.133Z"
   },
   {
    "duration": 39508,
    "start_time": "2023-01-15T18:42:47.178Z"
   },
   {
    "duration": 243094,
    "start_time": "2023-01-15T18:43:26.688Z"
   },
   {
    "duration": 163342,
    "start_time": "2023-01-15T18:47:29.784Z"
   },
   {
    "duration": 2,
    "start_time": "2023-01-15T18:50:13.127Z"
   },
   {
    "duration": 7,
    "start_time": "2023-01-15T18:50:13.131Z"
   },
   {
    "duration": 255,
    "start_time": "2023-01-15T18:50:13.140Z"
   },
   {
    "duration": 1406,
    "start_time": "2023-01-15T19:14:36.356Z"
   },
   {
    "duration": 50,
    "start_time": "2023-01-15T19:14:37.763Z"
   },
   {
    "duration": 9,
    "start_time": "2023-01-15T19:14:37.815Z"
   },
   {
    "duration": 11,
    "start_time": "2023-01-15T19:14:37.825Z"
   },
   {
    "duration": 11,
    "start_time": "2023-01-15T19:14:37.838Z"
   },
   {
    "duration": 25,
    "start_time": "2023-01-15T19:14:37.850Z"
   },
   {
    "duration": 18,
    "start_time": "2023-01-15T19:14:37.876Z"
   },
   {
    "duration": 30,
    "start_time": "2023-01-15T19:14:37.895Z"
   },
   {
    "duration": 9,
    "start_time": "2023-01-15T19:14:37.927Z"
   },
   {
    "duration": 209,
    "start_time": "2023-01-15T19:14:37.937Z"
   },
   {
    "duration": 183,
    "start_time": "2023-01-15T19:14:38.148Z"
   },
   {
    "duration": 8,
    "start_time": "2023-01-15T19:14:38.332Z"
   },
   {
    "duration": 240,
    "start_time": "2023-01-15T19:14:38.342Z"
   },
   {
    "duration": 8,
    "start_time": "2023-01-15T19:14:38.584Z"
   },
   {
    "duration": 27,
    "start_time": "2023-01-15T19:14:38.593Z"
   },
   {
    "duration": 8,
    "start_time": "2023-01-15T19:14:38.621Z"
   },
   {
    "duration": 26,
    "start_time": "2023-01-15T19:14:38.630Z"
   },
   {
    "duration": 36,
    "start_time": "2023-01-15T19:14:38.657Z"
   },
   {
    "duration": 36260,
    "start_time": "2023-01-15T19:14:38.694Z"
   },
   {
    "duration": 74231,
    "start_time": "2023-01-15T19:15:14.956Z"
   },
   {
    "duration": 102039,
    "start_time": "2023-01-15T19:16:29.189Z"
   },
   {
    "duration": 2,
    "start_time": "2023-01-15T19:18:11.229Z"
   },
   {
    "duration": 22,
    "start_time": "2023-01-15T19:18:11.233Z"
   },
   {
    "duration": 313,
    "start_time": "2023-01-15T19:18:11.256Z"
   },
   {
    "duration": 1663,
    "start_time": "2023-01-16T09:05:36.290Z"
   },
   {
    "duration": 143,
    "start_time": "2023-01-16T09:05:37.955Z"
   },
   {
    "duration": 9,
    "start_time": "2023-01-16T09:05:38.100Z"
   },
   {
    "duration": 41,
    "start_time": "2023-01-16T09:05:38.111Z"
   },
   {
    "duration": 38,
    "start_time": "2023-01-16T09:05:38.153Z"
   },
   {
    "duration": 28,
    "start_time": "2023-01-16T09:05:38.192Z"
   },
   {
    "duration": 5,
    "start_time": "2023-01-16T09:05:38.222Z"
   },
   {
    "duration": 45,
    "start_time": "2023-01-16T09:05:38.230Z"
   },
   {
    "duration": 10,
    "start_time": "2023-01-16T09:05:38.277Z"
   },
   {
    "duration": 230,
    "start_time": "2023-01-16T09:05:38.288Z"
   },
   {
    "duration": 192,
    "start_time": "2023-01-16T09:05:38.520Z"
   },
   {
    "duration": 7,
    "start_time": "2023-01-16T09:05:38.713Z"
   },
   {
    "duration": 245,
    "start_time": "2023-01-16T09:05:38.721Z"
   },
   {
    "duration": 12,
    "start_time": "2023-01-16T09:05:38.968Z"
   },
   {
    "duration": 59,
    "start_time": "2023-01-16T09:05:38.982Z"
   },
   {
    "duration": 19,
    "start_time": "2023-01-16T09:05:39.043Z"
   },
   {
    "duration": 46,
    "start_time": "2023-01-16T09:05:39.064Z"
   },
   {
    "duration": 21,
    "start_time": "2023-01-16T09:05:39.111Z"
   },
   {
    "duration": 67,
    "start_time": "2023-01-16T09:05:39.133Z"
   },
   {
    "duration": 37093,
    "start_time": "2023-01-16T09:05:39.201Z"
   },
   {
    "duration": 104184,
    "start_time": "2023-01-16T09:06:16.295Z"
   },
   {
    "duration": 91384,
    "start_time": "2023-01-16T09:08:00.480Z"
   },
   {
    "duration": 2,
    "start_time": "2023-01-16T09:09:31.867Z"
   },
   {
    "duration": 19,
    "start_time": "2023-01-16T09:09:31.871Z"
   },
   {
    "duration": 0,
    "start_time": "2023-01-16T09:09:31.892Z"
   },
   {
    "duration": 1352,
    "start_time": "2023-01-16T09:10:15.223Z"
   },
   {
    "duration": 50,
    "start_time": "2023-01-16T09:10:16.576Z"
   },
   {
    "duration": 8,
    "start_time": "2023-01-16T09:10:16.628Z"
   },
   {
    "duration": 10,
    "start_time": "2023-01-16T09:10:16.637Z"
   },
   {
    "duration": 10,
    "start_time": "2023-01-16T09:10:16.648Z"
   },
   {
    "duration": 11,
    "start_time": "2023-01-16T09:10:16.660Z"
   },
   {
    "duration": 4,
    "start_time": "2023-01-16T09:10:16.677Z"
   },
   {
    "duration": 25,
    "start_time": "2023-01-16T09:10:16.682Z"
   },
   {
    "duration": 7,
    "start_time": "2023-01-16T09:10:16.709Z"
   },
   {
    "duration": 212,
    "start_time": "2023-01-16T09:10:16.718Z"
   },
   {
    "duration": 216,
    "start_time": "2023-01-16T09:10:16.931Z"
   },
   {
    "duration": 29,
    "start_time": "2023-01-16T09:10:17.149Z"
   },
   {
    "duration": 523,
    "start_time": "2023-01-16T09:10:17.180Z"
   },
   {
    "duration": 9,
    "start_time": "2023-01-16T09:10:17.705Z"
   },
   {
    "duration": 6,
    "start_time": "2023-01-16T09:10:17.716Z"
   },
   {
    "duration": 55,
    "start_time": "2023-01-16T09:10:17.724Z"
   },
   {
    "duration": 13,
    "start_time": "2023-01-16T09:10:17.781Z"
   },
   {
    "duration": 26,
    "start_time": "2023-01-16T09:10:17.796Z"
   },
   {
    "duration": 62,
    "start_time": "2023-01-16T09:10:17.824Z"
   },
   {
    "duration": 1593,
    "start_time": "2023-01-16T09:13:17.024Z"
   },
   {
    "duration": 142,
    "start_time": "2023-01-16T09:13:18.619Z"
   },
   {
    "duration": 8,
    "start_time": "2023-01-16T09:13:18.763Z"
   },
   {
    "duration": 11,
    "start_time": "2023-01-16T09:13:18.773Z"
   },
   {
    "duration": 10,
    "start_time": "2023-01-16T09:13:18.786Z"
   },
   {
    "duration": 15,
    "start_time": "2023-01-16T09:13:18.798Z"
   },
   {
    "duration": 4,
    "start_time": "2023-01-16T09:13:18.814Z"
   },
   {
    "duration": 19,
    "start_time": "2023-01-16T09:13:18.820Z"
   },
   {
    "duration": 7,
    "start_time": "2023-01-16T09:13:18.840Z"
   },
   {
    "duration": 279,
    "start_time": "2023-01-16T09:13:18.850Z"
   },
   {
    "duration": 406,
    "start_time": "2023-01-16T09:13:19.131Z"
   },
   {
    "duration": 6,
    "start_time": "2023-01-16T09:13:19.539Z"
   },
   {
    "duration": 574,
    "start_time": "2023-01-16T09:13:19.547Z"
   },
   {
    "duration": 9,
    "start_time": "2023-01-16T09:13:20.123Z"
   },
   {
    "duration": 15,
    "start_time": "2023-01-16T09:13:20.133Z"
   },
   {
    "duration": 14,
    "start_time": "2023-01-16T09:13:20.150Z"
   },
   {
    "duration": 50,
    "start_time": "2023-01-16T09:13:20.166Z"
   },
   {
    "duration": 7,
    "start_time": "2023-01-16T09:13:20.218Z"
   },
   {
    "duration": 31,
    "start_time": "2023-01-16T09:13:20.226Z"
   },
   {
    "duration": 38142,
    "start_time": "2023-01-16T09:13:20.259Z"
   },
   {
    "duration": 50,
    "start_time": "2023-01-16T09:13:58.403Z"
   },
   {
    "duration": 0,
    "start_time": "2023-01-16T09:13:58.455Z"
   },
   {
    "duration": 0,
    "start_time": "2023-01-16T09:13:58.456Z"
   },
   {
    "duration": 0,
    "start_time": "2023-01-16T09:13:58.458Z"
   },
   {
    "duration": 0,
    "start_time": "2023-01-16T09:13:58.459Z"
   },
   {
    "duration": 0,
    "start_time": "2023-01-16T09:13:58.460Z"
   },
   {
    "duration": 1415,
    "start_time": "2023-01-16T09:14:13.907Z"
   },
   {
    "duration": 57,
    "start_time": "2023-01-16T09:14:15.324Z"
   },
   {
    "duration": 9,
    "start_time": "2023-01-16T09:14:15.384Z"
   },
   {
    "duration": 14,
    "start_time": "2023-01-16T09:14:15.395Z"
   },
   {
    "duration": 9,
    "start_time": "2023-01-16T09:14:15.412Z"
   },
   {
    "duration": 22,
    "start_time": "2023-01-16T09:14:15.422Z"
   },
   {
    "duration": 4,
    "start_time": "2023-01-16T09:14:15.445Z"
   },
   {
    "duration": 22,
    "start_time": "2023-01-16T09:14:15.451Z"
   },
   {
    "duration": 9,
    "start_time": "2023-01-16T09:14:15.474Z"
   },
   {
    "duration": 241,
    "start_time": "2023-01-16T09:14:15.484Z"
   },
   {
    "duration": 390,
    "start_time": "2023-01-16T09:14:15.726Z"
   },
   {
    "duration": 7,
    "start_time": "2023-01-16T09:14:16.117Z"
   },
   {
    "duration": 521,
    "start_time": "2023-01-16T09:14:16.126Z"
   },
   {
    "duration": 65,
    "start_time": "2023-01-16T09:14:16.650Z"
   },
   {
    "duration": 4,
    "start_time": "2023-01-16T09:14:16.717Z"
   },
   {
    "duration": 6,
    "start_time": "2023-01-16T09:14:16.723Z"
   },
   {
    "duration": 7,
    "start_time": "2023-01-16T09:14:16.731Z"
   },
   {
    "duration": 8,
    "start_time": "2023-01-16T09:14:16.740Z"
   },
   {
    "duration": 77,
    "start_time": "2023-01-16T09:14:16.749Z"
   },
   {
    "duration": 37545,
    "start_time": "2023-01-16T09:14:16.828Z"
   },
   {
    "duration": 113,
    "start_time": "2023-01-16T09:14:54.375Z"
   },
   {
    "duration": 1,
    "start_time": "2023-01-16T09:14:54.490Z"
   },
   {
    "duration": 0,
    "start_time": "2023-01-16T09:14:54.492Z"
   },
   {
    "duration": 0,
    "start_time": "2023-01-16T09:14:54.494Z"
   },
   {
    "duration": 0,
    "start_time": "2023-01-16T09:14:54.495Z"
   },
   {
    "duration": 0,
    "start_time": "2023-01-16T09:14:54.496Z"
   },
   {
    "duration": 1894,
    "start_time": "2023-01-16T09:17:20.145Z"
   },
   {
    "duration": 94,
    "start_time": "2023-01-16T09:17:22.041Z"
   },
   {
    "duration": 11,
    "start_time": "2023-01-16T09:17:22.137Z"
   },
   {
    "duration": 68,
    "start_time": "2023-01-16T09:17:22.151Z"
   },
   {
    "duration": 15,
    "start_time": "2023-01-16T09:17:22.221Z"
   },
   {
    "duration": 20,
    "start_time": "2023-01-16T09:17:22.238Z"
   },
   {
    "duration": 4,
    "start_time": "2023-01-16T09:17:22.260Z"
   },
   {
    "duration": 67,
    "start_time": "2023-01-16T09:17:22.265Z"
   },
   {
    "duration": 7,
    "start_time": "2023-01-16T09:17:22.334Z"
   },
   {
    "duration": 395,
    "start_time": "2023-01-16T09:17:22.344Z"
   },
   {
    "duration": 189,
    "start_time": "2023-01-16T09:17:22.740Z"
   },
   {
    "duration": 7,
    "start_time": "2023-01-16T09:17:22.931Z"
   },
   {
    "duration": 264,
    "start_time": "2023-01-16T09:17:22.939Z"
   },
   {
    "duration": 14,
    "start_time": "2023-01-16T09:17:23.204Z"
   },
   {
    "duration": 3,
    "start_time": "2023-01-16T09:17:23.220Z"
   },
   {
    "duration": 9,
    "start_time": "2023-01-16T09:17:23.225Z"
   },
   {
    "duration": 15,
    "start_time": "2023-01-16T09:17:23.236Z"
   },
   {
    "duration": 20,
    "start_time": "2023-01-16T09:17:23.253Z"
   },
   {
    "duration": 39,
    "start_time": "2023-01-16T09:17:23.275Z"
   },
   {
    "duration": 37644,
    "start_time": "2023-01-16T09:17:23.316Z"
   },
   {
    "duration": 118,
    "start_time": "2023-01-16T09:18:00.961Z"
   },
   {
    "duration": 0,
    "start_time": "2023-01-16T09:18:01.081Z"
   },
   {
    "duration": 0,
    "start_time": "2023-01-16T09:18:01.082Z"
   },
   {
    "duration": 0,
    "start_time": "2023-01-16T09:18:01.083Z"
   },
   {
    "duration": 0,
    "start_time": "2023-01-16T09:18:01.084Z"
   },
   {
    "duration": 0,
    "start_time": "2023-01-16T09:18:01.085Z"
   },
   {
    "duration": 1495,
    "start_time": "2023-01-16T10:54:44.794Z"
   },
   {
    "duration": 73,
    "start_time": "2023-01-16T10:54:46.293Z"
   },
   {
    "duration": 11,
    "start_time": "2023-01-16T10:54:46.371Z"
   },
   {
    "duration": 38,
    "start_time": "2023-01-16T10:54:46.384Z"
   },
   {
    "duration": 12,
    "start_time": "2023-01-16T10:54:46.424Z"
   },
   {
    "duration": 16,
    "start_time": "2023-01-16T10:54:46.438Z"
   },
   {
    "duration": 4,
    "start_time": "2023-01-16T10:54:46.456Z"
   },
   {
    "duration": 61,
    "start_time": "2023-01-16T10:54:46.462Z"
   },
   {
    "duration": 10,
    "start_time": "2023-01-16T10:54:46.527Z"
   },
   {
    "duration": 299,
    "start_time": "2023-01-16T10:54:46.539Z"
   },
   {
    "duration": 203,
    "start_time": "2023-01-16T10:54:46.839Z"
   },
   {
    "duration": 8,
    "start_time": "2023-01-16T10:54:47.044Z"
   },
   {
    "duration": 289,
    "start_time": "2023-01-16T10:54:47.054Z"
   },
   {
    "duration": 11,
    "start_time": "2023-01-16T10:54:47.345Z"
   },
   {
    "duration": 5,
    "start_time": "2023-01-16T10:54:47.358Z"
   },
   {
    "duration": 5,
    "start_time": "2023-01-16T10:54:47.366Z"
   },
   {
    "duration": 6,
    "start_time": "2023-01-16T10:54:47.373Z"
   },
   {
    "duration": 44,
    "start_time": "2023-01-16T10:54:47.381Z"
   },
   {
    "duration": 29,
    "start_time": "2023-01-16T10:54:47.428Z"
   },
   {
    "duration": 39549,
    "start_time": "2023-01-16T10:54:47.459Z"
   },
   {
    "duration": 1426,
    "start_time": "2023-01-16T11:25:25.660Z"
   },
   {
    "duration": 52,
    "start_time": "2023-01-16T11:25:27.088Z"
   },
   {
    "duration": 8,
    "start_time": "2023-01-16T11:25:27.141Z"
   },
   {
    "duration": 12,
    "start_time": "2023-01-16T11:25:27.151Z"
   },
   {
    "duration": 9,
    "start_time": "2023-01-16T11:25:27.165Z"
   },
   {
    "duration": 21,
    "start_time": "2023-01-16T11:25:27.176Z"
   },
   {
    "duration": 17,
    "start_time": "2023-01-16T11:25:27.198Z"
   },
   {
    "duration": 20,
    "start_time": "2023-01-16T11:25:27.217Z"
   },
   {
    "duration": 9,
    "start_time": "2023-01-16T11:25:27.238Z"
   },
   {
    "duration": 233,
    "start_time": "2023-01-16T11:25:27.248Z"
   },
   {
    "duration": 197,
    "start_time": "2023-01-16T11:25:27.482Z"
   },
   {
    "duration": 7,
    "start_time": "2023-01-16T11:25:27.681Z"
   },
   {
    "duration": 248,
    "start_time": "2023-01-16T11:25:27.690Z"
   },
   {
    "duration": 8,
    "start_time": "2023-01-16T11:25:27.942Z"
   },
   {
    "duration": 7,
    "start_time": "2023-01-16T11:25:27.952Z"
   },
   {
    "duration": 4,
    "start_time": "2023-01-16T11:25:27.961Z"
   },
   {
    "duration": 8,
    "start_time": "2023-01-16T11:25:27.966Z"
   },
   {
    "duration": 62,
    "start_time": "2023-01-16T11:25:27.975Z"
   },
   {
    "duration": 38311,
    "start_time": "2023-01-16T11:25:28.040Z"
   },
   {
    "duration": 1037596,
    "start_time": "2023-01-16T11:26:06.353Z"
   },
   {
    "duration": 103236,
    "start_time": "2023-01-16T11:43:23.951Z"
   },
   {
    "duration": 10,
    "start_time": "2023-01-16T11:45:07.188Z"
   },
   {
    "duration": 0,
    "start_time": "2023-01-16T11:45:07.200Z"
   },
   {
    "duration": 1367,
    "start_time": "2023-01-16T11:52:13.637Z"
   },
   {
    "duration": 52,
    "start_time": "2023-01-16T11:52:15.006Z"
   },
   {
    "duration": 26,
    "start_time": "2023-01-16T11:52:15.060Z"
   },
   {
    "duration": 40,
    "start_time": "2023-01-16T11:52:15.088Z"
   },
   {
    "duration": 12,
    "start_time": "2023-01-16T11:52:15.131Z"
   },
   {
    "duration": 25,
    "start_time": "2023-01-16T11:52:15.146Z"
   },
   {
    "duration": 10,
    "start_time": "2023-01-16T11:52:15.173Z"
   },
   {
    "duration": 34,
    "start_time": "2023-01-16T11:52:15.184Z"
   },
   {
    "duration": 10,
    "start_time": "2023-01-16T11:52:15.221Z"
   },
   {
    "duration": 249,
    "start_time": "2023-01-16T11:52:15.235Z"
   },
   {
    "duration": 222,
    "start_time": "2023-01-16T11:52:15.486Z"
   },
   {
    "duration": 10,
    "start_time": "2023-01-16T11:52:15.710Z"
   },
   {
    "duration": 276,
    "start_time": "2023-01-16T11:52:15.722Z"
   },
   {
    "duration": 19,
    "start_time": "2023-01-16T11:52:16.000Z"
   },
   {
    "duration": 6,
    "start_time": "2023-01-16T11:52:16.021Z"
   },
   {
    "duration": 6,
    "start_time": "2023-01-16T11:52:16.028Z"
   },
   {
    "duration": 16,
    "start_time": "2023-01-16T11:52:16.036Z"
   },
   {
    "duration": 66,
    "start_time": "2023-01-16T11:52:16.054Z"
   },
   {
    "duration": 37872,
    "start_time": "2023-01-16T11:52:16.122Z"
   },
   {
    "duration": 1380,
    "start_time": "2023-01-16T11:58:46.852Z"
   },
   {
    "duration": 50,
    "start_time": "2023-01-16T11:58:48.234Z"
   },
   {
    "duration": 9,
    "start_time": "2023-01-16T11:58:48.285Z"
   },
   {
    "duration": 10,
    "start_time": "2023-01-16T11:58:48.296Z"
   },
   {
    "duration": 15,
    "start_time": "2023-01-16T11:58:48.308Z"
   },
   {
    "duration": 19,
    "start_time": "2023-01-16T11:58:48.324Z"
   },
   {
    "duration": 4,
    "start_time": "2023-01-16T11:58:48.345Z"
   },
   {
    "duration": 26,
    "start_time": "2023-01-16T11:58:48.351Z"
   },
   {
    "duration": 38,
    "start_time": "2023-01-16T11:58:48.378Z"
   },
   {
    "duration": 240,
    "start_time": "2023-01-16T11:58:48.418Z"
   },
   {
    "duration": 213,
    "start_time": "2023-01-16T11:58:48.660Z"
   },
   {
    "duration": 8,
    "start_time": "2023-01-16T11:58:48.875Z"
   },
   {
    "duration": 278,
    "start_time": "2023-01-16T11:58:48.885Z"
   },
   {
    "duration": 8,
    "start_time": "2023-01-16T11:58:49.165Z"
   },
   {
    "duration": 4,
    "start_time": "2023-01-16T11:58:49.175Z"
   },
   {
    "duration": 5,
    "start_time": "2023-01-16T11:58:49.180Z"
   },
   {
    "duration": 31,
    "start_time": "2023-01-16T11:58:49.186Z"
   },
   {
    "duration": 34,
    "start_time": "2023-01-16T11:58:49.219Z"
   },
   {
    "duration": 37666,
    "start_time": "2023-01-16T11:58:49.255Z"
   },
   {
    "duration": 565903,
    "start_time": "2023-01-16T11:59:26.923Z"
   },
   {
    "duration": 1496,
    "start_time": "2023-01-30T11:08:59.556Z"
   },
   {
    "duration": 132,
    "start_time": "2023-01-30T11:09:01.054Z"
   },
   {
    "duration": 17,
    "start_time": "2023-01-30T11:09:01.188Z"
   },
   {
    "duration": 12,
    "start_time": "2023-01-30T11:09:01.209Z"
   },
   {
    "duration": 22,
    "start_time": "2023-01-30T11:09:01.222Z"
   },
   {
    "duration": 17,
    "start_time": "2023-01-30T11:09:01.246Z"
   },
   {
    "duration": 25,
    "start_time": "2023-01-30T11:09:01.265Z"
   },
   {
    "duration": 42,
    "start_time": "2023-01-30T11:09:01.292Z"
   },
   {
    "duration": 10,
    "start_time": "2023-01-30T11:09:01.336Z"
   },
   {
    "duration": 277,
    "start_time": "2023-01-30T11:09:01.350Z"
   },
   {
    "duration": 273,
    "start_time": "2023-01-30T11:09:01.630Z"
   },
   {
    "duration": 9,
    "start_time": "2023-01-30T11:09:01.905Z"
   },
   {
    "duration": 290,
    "start_time": "2023-01-30T11:09:01.916Z"
   },
   {
    "duration": 10,
    "start_time": "2023-01-30T11:09:02.208Z"
   },
   {
    "duration": 20,
    "start_time": "2023-01-30T11:09:02.220Z"
   },
   {
    "duration": 22,
    "start_time": "2023-01-30T11:09:02.242Z"
   },
   {
    "duration": 17,
    "start_time": "2023-01-30T11:09:02.266Z"
   },
   {
    "duration": 70,
    "start_time": "2023-01-30T11:09:02.285Z"
   },
   {
    "duration": 38595,
    "start_time": "2023-01-30T11:09:02.357Z"
   },
   {
    "duration": 123536,
    "start_time": "2023-01-30T11:09:40.954Z"
   },
   {
    "duration": 108513,
    "start_time": "2023-01-30T11:11:44.492Z"
   },
   {
    "duration": 74,
    "start_time": "2023-01-30T11:13:33.007Z"
   },
   {
    "duration": 251,
    "start_time": "2023-01-30T11:13:33.083Z"
   }
  ],
  "kernelspec": {
   "display_name": "Python 3 (ipykernel)",
   "language": "python",
   "name": "python3"
  },
  "language_info": {
   "codemirror_mode": {
    "name": "ipython",
    "version": 3
   },
   "file_extension": ".py",
   "mimetype": "text/x-python",
   "name": "python",
   "nbconvert_exporter": "python",
   "pygments_lexer": "ipython3",
   "version": "3.9.12"
  },
  "toc": {
   "base_numbering": 1,
   "nav_menu": {},
   "number_sections": true,
   "sideBar": true,
   "skip_h1_title": true,
   "title_cell": "Содержание",
   "title_sidebar": "Contents",
   "toc_cell": true,
   "toc_position": {
    "height": "calc(100% - 180px)",
    "left": "10px",
    "top": "150px",
    "width": "289.406px"
   },
   "toc_section_display": true,
   "toc_window_display": true
  }
 },
 "nbformat": 4,
 "nbformat_minor": 2
}
